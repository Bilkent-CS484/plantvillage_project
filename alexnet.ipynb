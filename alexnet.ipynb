{
 "cells": [
  {
   "cell_type": "code",
   "id": "5b97742a309eea73",
   "metadata": {
    "collapsed": false,
    "ExecuteTime": {
     "end_time": "2024-04-21T09:22:23.251791Z",
     "start_time": "2024-04-21T09:22:16.614543Z"
    }
   },
   "source": [
    "# Import statements\n",
    "import os\n",
    "import torch\n",
    "from PIL import Image\n",
    "from torch.utils.data import Dataset, DataLoader\n",
    "from torchvision import transforms\n",
    "import torch.nn as nn\n",
    "from sklearn.metrics import accuracy_score, confusion_matrix, f1_score, roc_curve, roc_auc_score, precision_recall_curve, auc\n",
    "import matplotlib.pyplot as plt\n",
    "import numpy as np\n",
    "from tqdm import tqdm\n",
    "import seaborn as sns\n",
    "from sklearn.preprocessing import label_binarize"
   ],
   "outputs": [],
   "execution_count": 1
  },
  {
   "cell_type": "code",
   "id": "7b3a4413620c0f73",
   "metadata": {
    "collapsed": false,
    "ExecuteTime": {
     "end_time": "2024-04-21T09:22:26.935443Z",
     "start_time": "2024-04-21T09:22:25.588366Z"
    }
   },
   "source": [
    "# Details about the cuda device\n",
    "print(torch.cuda.is_available())\n",
    "device = torch.device(\"cuda\" if torch.cuda.is_available() else \"cpu\")\n",
    "print(f\"Using device: {device}\")\n",
    "\n",
    "if device.type == 'cuda':\n",
    "    print(f\"Device name: {torch.cuda.get_device_name(0)}\")\n",
    "    print(f\"Memory Allocated: {torch.cuda.memory_allocated(0)} bytes\")\n",
    "    print(f\"Memory Cached: {torch.cuda.memory_reserved(0)} bytes\")\n",
    "    print(f\"Total Memory: {torch.cuda.get_device_properties(0).total_memory} bytes\")\n",
    "else:\n",
    "    print(\"CUDA is not available. Using CPU instead.\")"
   ],
   "outputs": [
    {
     "name": "stdout",
     "output_type": "stream",
     "text": [
      "True\n",
      "Using device: cuda\n",
      "Device name: NVIDIA GeForce RTX 3060 Laptop GPU\n",
      "Memory Allocated: 0 bytes\n",
      "Memory Cached: 0 bytes\n",
      "Total Memory: 6441926656 bytes\n"
     ]
    }
   ],
   "execution_count": 2
  },
  {
   "cell_type": "code",
   "id": "b6e0076ac3b52191",
   "metadata": {
    "collapsed": false,
    "ExecuteTime": {
     "end_time": "2024-04-21T09:22:28.785379Z",
     "start_time": "2024-04-21T09:22:28.766606Z"
    }
   },
   "source": [
    "class ImageDataset(Dataset):\n",
    "    def __init__(self, txt_loc, transform=None):\n",
    "        print(\"Initializing image dataset.\")\n",
    "        self.image_labels = []\n",
    "        self.image_paths = self.find_full_paths(txt_loc)\n",
    "        self.transform = transform\n",
    "        print(f\"Total images found: {len(self.image_paths)}\")\n",
    "\n",
    "    def __len__(self):\n",
    "        return len(self.image_paths)\n",
    "\n",
    "    def __getitem__(self, index):\n",
    "        img_path, label = self.image_paths[index]\n",
    "        try:\n",
    "            image = Image.open(img_path)\n",
    "            if self.transform:\n",
    "                image = self.transform(image)\n",
    "            # print(f\"Loaded image {index + 1}/{len(self.image_paths)}: {img_path}\")\n",
    "            return image, torch.tensor(label, dtype=torch.long)\n",
    "        except IOError as e:\n",
    "            print(f\"Error loading image {img_path}: {e}\")\n",
    "            return None, None\n",
    "\n",
    "    def find_file_by_suffix(self, directory, filename_suffix):\n",
    "        for root, dirs, files in os.walk(directory):\n",
    "            for filename in files:\n",
    "                if filename.endswith(filename_suffix):\n",
    "                    return os.path.join(root, filename)\n",
    "        return None\n",
    "\n",
    "    def find_full_paths(self, txt_loc):\n",
    "        data_dirs = os.listdir(\"color/\")\n",
    "        final_paths = []\n",
    "        with open(txt_loc, 'r') as infile:\n",
    "            lines = [line.strip() for line in infile.readlines()]\n",
    "        \n",
    "        for line in lines:\n",
    "            parts = line.rsplit(' ', 1) \n",
    "            filename = parts[0]\n",
    "            label = int(parts[1]) - 1\n",
    "            directory_index = label\n",
    "            file_location = f'color/{data_dirs[directory_index]}/'\n",
    "            full_path = self.find_file_by_suffix(file_location, filename)\n",
    "            if full_path:\n",
    "                final_paths.append((full_path, label))\n",
    "            else:\n",
    "                print(f\"File not found: {filename} in {file_location}\")\n",
    "        return final_paths\n"
   ],
   "outputs": [],
   "execution_count": 3
  },
  {
   "cell_type": "code",
   "id": "3b61342a1e5e132e",
   "metadata": {
    "collapsed": false,
    "ExecuteTime": {
     "end_time": "2024-04-21T09:22:32.512305Z",
     "start_time": "2024-04-21T09:22:31.530184Z"
    }
   },
   "source": [
    "class AlexNet(nn.Module):\n",
    "    def __init__(self, num_classes=31):\n",
    "        super(AlexNet, self).__init__()\n",
    "        self.features = nn.Sequential(\n",
    "            nn.Conv2d(3, 96, kernel_size=11, stride=4, padding=0),\n",
    "            nn.ReLU(inplace=True),\n",
    "            nn.LocalResponseNorm(size=5, alpha=0.0001, beta=0.75),\n",
    "            nn.MaxPool2d(kernel_size=3, stride=2),\n",
    "            nn.Conv2d(96, 256, kernel_size=5, padding=2, groups=2),\n",
    "            nn.ReLU(inplace=True),\n",
    "            nn.LocalResponseNorm(size=5, alpha=0.0001, beta=0.75),\n",
    "            nn.MaxPool2d(kernel_size=3, stride=2),\n",
    "            nn.Conv2d(256, 384, kernel_size=3, padding=1),\n",
    "            nn.ReLU(inplace=True),\n",
    "            nn.Conv2d(384, 384, kernel_size=3, padding=1, groups=2),\n",
    "            nn.ReLU(inplace=True),\n",
    "            nn.Conv2d(384, 256, kernel_size=3, padding=1, groups=2),\n",
    "            nn.ReLU(inplace=True),\n",
    "            nn.MaxPool2d(kernel_size=3, stride=2),\n",
    "        )\n",
    "        self.avgpool = nn.AdaptiveAvgPool2d((6, 6))\n",
    "        self.classifier = nn.Sequential(\n",
    "            nn.Dropout(),\n",
    "            nn.Linear(256 * 6 * 6, 4096),\n",
    "            nn.ReLU(inplace=True),\n",
    "            nn.Dropout(),\n",
    "            nn.Linear(4096, 4096),\n",
    "            nn.ReLU(inplace=True),\n",
    "            nn.Linear(4096, num_classes),\n",
    "        )\n",
    "\n",
    "    def forward(self, x):\n",
    "        x = self.features(x)\n",
    "        x = self.avgpool(x)\n",
    "        x = torch.flatten(x, 1)\n",
    "        x = self.classifier(x)\n",
    "        return x\n",
    "    \n",
    "model = AlexNet().to(device)\n",
    "print(model)"
   ],
   "outputs": [
    {
     "name": "stdout",
     "output_type": "stream",
     "text": [
      "AlexNet(\n",
      "  (features): Sequential(\n",
      "    (0): Conv2d(3, 96, kernel_size=(11, 11), stride=(4, 4))\n",
      "    (1): ReLU(inplace=True)\n",
      "    (2): LocalResponseNorm(5, alpha=0.0001, beta=0.75, k=1.0)\n",
      "    (3): MaxPool2d(kernel_size=3, stride=2, padding=0, dilation=1, ceil_mode=False)\n",
      "    (4): Conv2d(96, 256, kernel_size=(5, 5), stride=(1, 1), padding=(2, 2), groups=2)\n",
      "    (5): ReLU(inplace=True)\n",
      "    (6): LocalResponseNorm(5, alpha=0.0001, beta=0.75, k=1.0)\n",
      "    (7): MaxPool2d(kernel_size=3, stride=2, padding=0, dilation=1, ceil_mode=False)\n",
      "    (8): Conv2d(256, 384, kernel_size=(3, 3), stride=(1, 1), padding=(1, 1))\n",
      "    (9): ReLU(inplace=True)\n",
      "    (10): Conv2d(384, 384, kernel_size=(3, 3), stride=(1, 1), padding=(1, 1), groups=2)\n",
      "    (11): ReLU(inplace=True)\n",
      "    (12): Conv2d(384, 256, kernel_size=(3, 3), stride=(1, 1), padding=(1, 1), groups=2)\n",
      "    (13): ReLU(inplace=True)\n",
      "    (14): MaxPool2d(kernel_size=3, stride=2, padding=0, dilation=1, ceil_mode=False)\n",
      "  )\n",
      "  (avgpool): AdaptiveAvgPool2d(output_size=(6, 6))\n",
      "  (classifier): Sequential(\n",
      "    (0): Dropout(p=0.5, inplace=False)\n",
      "    (1): Linear(in_features=9216, out_features=4096, bias=True)\n",
      "    (2): ReLU(inplace=True)\n",
      "    (3): Dropout(p=0.5, inplace=False)\n",
      "    (4): Linear(in_features=4096, out_features=4096, bias=True)\n",
      "    (5): ReLU(inplace=True)\n",
      "    (6): Linear(in_features=4096, out_features=31, bias=True)\n",
      "  )\n",
      ")\n"
     ]
    }
   ],
   "execution_count": 4
  },
  {
   "cell_type": "code",
   "id": "initial_id",
   "metadata": {
    "collapsed": true,
    "ExecuteTime": {
     "end_time": "2024-04-21T09:28:02.093709Z",
     "start_time": "2024-04-21T09:25:27.836713Z"
    }
   },
   "source": [
    "transform = transforms.Compose([\n",
    "    transforms.CenterCrop(227), #alexnet size\n",
    "    transforms.ToTensor(),\n",
    "])\n",
    "\n",
    "train_dataset = ImageDataset(txt_loc='./train.txt', transform=transform)\n",
    "print(len(train_dataset))\n",
    "test_dataset = ImageDataset(txt_loc='./test.txt', transform=transform)\n",
    "print(len(test_dataset))\n",
    "\n",
    "batch_sizes = [100]\n",
    "learning_rates = [0.001, 0.0005, 0.0001]\n",
    "epochs_list = [15]\n",
    "\n",
    "def get_loader(dataset, batch_size):\n",
    "    if batch_size > len(dataset):\n",
    "        batch_size = len(dataset)\n",
    "    return DataLoader(dataset, batch_size=batch_size, shuffle=True, num_workers=0)\n",
    "\n",
    "# Results \n",
    "results = []\n"
   ],
   "outputs": [
    {
     "name": "stdout",
     "output_type": "stream",
     "text": [
      "Initializing image dataset.\n",
      "Total images found: 34011\n",
      "34011\n",
      "Initializing image dataset.\n",
      "Total images found: 8498\n",
      "8498\n"
     ]
    }
   ],
   "execution_count": 6
  },
  {
   "cell_type": "code",
   "id": "ca7bea57a3a30377",
   "metadata": {
    "collapsed": false,
    "ExecuteTime": {
     "end_time": "2024-04-18T21:37:31.142820Z",
     "start_time": "2024-04-18T21:37:31.124578Z"
    }
   },
   "source": [
    "# criterion = nn.CrossEntropyLoss()\n",
    "# optimizer = torch.optim.Adam(model.parameters(), lr=0.001)"
   ],
   "outputs": [],
   "execution_count": 17
  },
  {
   "metadata": {
    "jupyter": {
     "is_executing": true
    },
    "ExecuteTime": {
     "start_time": "2024-04-20T08:35:35.563222Z"
    }
   },
   "cell_type": "code",
   "source": "",
   "id": "11593ac5fa9a130a",
   "outputs": [
    {
     "name": "stderr",
     "output_type": "stream",
     "text": [
      "Epoch 1/10, Batch Size 1, LR 0.001:   6%|▌         | 2088/34011 [00:58<14:04, 37.79it/s, loss=3.23]"
     ]
    }
   ],
   "execution_count": null
  },
  {
   "cell_type": "code",
   "id": "4f5882ac0a473d65",
   "metadata": {
    "collapsed": false,
    "ExecuteTime": {
     "end_time": "2024-04-18T22:13:43.521535Z",
     "start_time": "2024-04-18T21:37:32.207306Z"
    }
   },
   "source": [
    "# model.train()\n",
    "# for epoch in range(15):\n",
    "#     loop = tqdm(enumerate(train_loader), total=len(train_loader), leave=True)\n",
    "#     for i, (inputs, labels) in loop:\n",
    "#         inputs, labels = inputs.to(device), labels.to(device)\n",
    "#         optimizer.zero_grad()\n",
    "#         outputs = model(inputs)\n",
    "#         loss = criterion(outputs, labels)\n",
    "#         loss.backward()\n",
    "#         optimizer.step()\n",
    "# \n",
    "#         loop.set_description(f'Epoch {epoch + 1}')\n",
    "#         loop.set_postfix(loss=loss.item())\n"
   ],
   "outputs": [
    {
     "name": "stderr",
     "output_type": "stream",
     "text": [
      "Epoch 1: 100%|██████████| 1063/1063 [04:20<00:00,  4.07it/s, loss=2.33] \n",
      "Epoch 2: 100%|██████████| 1063/1063 [02:06<00:00,  8.40it/s, loss=0.774]\n",
      "Epoch 3: 100%|██████████| 1063/1063 [02:06<00:00,  8.39it/s, loss=0.984]\n",
      "Epoch 4: 100%|██████████| 1063/1063 [02:02<00:00,  8.69it/s, loss=0.716]\n",
      "Epoch 5: 100%|██████████| 1063/1063 [02:04<00:00,  8.54it/s, loss=0.832]\n",
      "Epoch 6: 100%|██████████| 1063/1063 [02:05<00:00,  8.48it/s, loss=0.321]\n",
      "Epoch 7: 100%|██████████| 1063/1063 [02:37<00:00,  6.74it/s, loss=0.421]\n",
      "Epoch 8: 100%|██████████| 1063/1063 [02:30<00:00,  7.08it/s, loss=0.591]\n",
      "Epoch 9: 100%|██████████| 1063/1063 [02:20<00:00,  7.59it/s, loss=0.615]\n",
      "Epoch 10: 100%|██████████| 1063/1063 [02:18<00:00,  7.66it/s, loss=0.435]\n",
      "Epoch 11: 100%|██████████| 1063/1063 [02:18<00:00,  7.69it/s, loss=0.294]\n",
      "Epoch 12: 100%|██████████| 1063/1063 [02:17<00:00,  7.73it/s, loss=0.492]\n",
      "Epoch 13: 100%|██████████| 1063/1063 [02:19<00:00,  7.65it/s, loss=0.474]\n",
      "Epoch 14: 100%|██████████| 1063/1063 [02:24<00:00,  7.36it/s, loss=0.315] \n",
      "Epoch 15: 100%|██████████| 1063/1063 [02:18<00:00,  7.65it/s, loss=0.32] \n"
     ]
    }
   ],
   "execution_count": 18
  },
  {
   "cell_type": "code",
   "id": "7638f5d6b972aa94",
   "metadata": {
    "collapsed": false,
    "ExecuteTime": {
     "end_time": "2024-04-21T09:38:45.580570Z",
     "start_time": "2024-04-21T09:38:45.547293Z"
    }
   },
   "source": [
    "import torch.nn.functional as F\n",
    "classes = [f'{i}' for i in range(1, 32)]\n",
    "\n",
    "def plot_confusion_matrix(true_labels, predicted_labels, classes, save_path, file_suffix):\n",
    "    cm = confusion_matrix(true_labels, predicted_labels)\n",
    "    plt.figure(figsize=(10, 8))\n",
    "    sns.heatmap(cm, annot=True, cmap=plt.cm.Purples, fmt='g', \n",
    "                 xticklabels=classes, yticklabels=classes)\n",
    "    plt.xlabel('Predicted Label')\n",
    "    plt.ylabel('True Label')\n",
    "    plt.title('Confusion Matrix')\n",
    "    plt.savefig(f'{save_path}/confusion_matrix_{file_suffix}.png')\n",
    "    plt.close()\n",
    "    \n",
    "def plot_roc_curve_multiclass(num_classes, true_labels, probabilities, save_path, file_suffix):\n",
    "    true_labels = label_binarize(true_labels, classes=[i for i in range(num_classes)])\n",
    "    n_classes = true_labels.shape[1]\n",
    "    \n",
    "    fpr = dict()\n",
    "    tpr = dict()\n",
    "    roc_auc = dict()\n",
    "    for i in range(n_classes):\n",
    "        fpr[i], tpr[i], _ = roc_curve(true_labels[:, i], probabilities[:, i])\n",
    "        roc_auc[i] = auc(fpr[i], tpr[i])\n",
    "\n",
    "    plt.figure(figsize=(10, 8))\n",
    "    colors = iter(plt.cm.rainbow(np.linspace(0, 1, n_classes)))\n",
    "    for i in range(n_classes):\n",
    "        plt.plot(fpr[i], tpr[i], color=next(colors), label=f'Class {i} (AUC = {roc_auc[i]:.2f})')\n",
    "    \n",
    "    plt.plot([0, 1], [0, 1], 'k--')\n",
    "    plt.xlim([0.0, 1.0])\n",
    "    plt.ylim([0.0, 1.05])\n",
    "    plt.xlabel('False Positive Rate')\n",
    "    plt.ylabel('True Positive Rate')\n",
    "    plt.title('Multi-class ROC Curve')\n",
    "    plt.legend(loc=\"lower right\")\n",
    "    plt.savefig(f'{save_path}/roc_curve_multiclass_{file_suffix}.png')\n",
    "    plt.close()\n",
    "\n",
    "def plot_precision_recall(labels, probabilities, num_classes, save_path, file_suffix):\n",
    "    labels = label_binarize(labels, classes=[i for i in range(num_classes)])\n",
    "    \n",
    "    precision = dict()\n",
    "    recall = dict()\n",
    "    pr_auc = dict()\n",
    "\n",
    "    for i in range(num_classes):\n",
    "        precision[i], recall[i], _ = precision_recall_curve(labels[:, i], probabilities[:, i])\n",
    "        pr_auc[i] = auc(recall[i], precision[i])\n",
    "\n",
    "    plt.figure(figsize=(10, 8))\n",
    "    for i in range(num_classes):\n",
    "        plt.plot(recall[i], precision[i], lw=2, label=f'Class {i} (PR AUC = {pr_auc[i]:.2f})')\n",
    "\n",
    "    plt.xlabel('Recall')\n",
    "    plt.ylabel('Precision')\n",
    "    plt.title('Class-wise Precision-Recall Curves')\n",
    "    plt.legend(loc=\"best\")\n",
    "    plt.savefig(f'{save_path}/precision_recall_curves_{file_suffix}.png')\n",
    "    plt.close()\n",
    "\n",
    "    \n",
    "def evaluate_model(model, device, data_loader, classes):\n",
    "    model.eval()\n",
    "    correct = 0\n",
    "    total = 0\n",
    "    true_labels = []\n",
    "    predicted_labels = []\n",
    "    probabilities_list = []\n",
    "\n",
    "    with torch.no_grad():\n",
    "        for inputs, labels in data_loader:\n",
    "            inputs, labels = inputs.to(device), labels.to(device)\n",
    "            outputs = model(inputs)\n",
    "\n",
    "            probabilities = F.softmax(outputs, dim=1)\n",
    "            probabilities_list.append(probabilities.cpu())\n",
    "            \n",
    "            _, predicted = torch.max(outputs.data, 1)\n",
    "            total += labels.size(0)\n",
    "            correct += (predicted == labels).sum().item()\n",
    "            true_labels.extend(labels.cpu().numpy())\n",
    "            predicted_labels.extend(predicted.cpu().numpy())\n",
    "\n",
    "    accuracy = 100 * correct / total\n",
    "    f1 = f1_score(true_labels, predicted_labels, average='weighted')\n",
    "    print(f'Accuracy: {accuracy:.2f}%')\n",
    "    print(f'F1 Score: {f1:.2f}')\n",
    "\n",
    "    probabilities = torch.cat(probabilities_list, dim=0)\n",
    "    true_labels = torch.tensor(true_labels)\n",
    "        \n",
    "    return true_labels, predicted_labels, probabilities"
   ],
   "outputs": [],
   "execution_count": 7
  },
  {
   "metadata": {
    "ExecuteTime": {
     "end_time": "2024-04-21T11:05:15.187604Z",
     "start_time": "2024-04-21T09:41:53.753967Z"
    }
   },
   "cell_type": "code",
   "source": [
    "plt.figure()\n",
    "plt.plot([1, 2, 3], [1, 2, 3])\n",
    "plt.savefig('results/Alexnet/confusion_matrices/test_plot.png')\n",
    "plt.savefig('results/Alexnet/precision_recall/test_plot.png')\n",
    "plt.savefig('results/Alexnet/roc_curves/test_plot.png')\n",
    "plt.close()\n",
    "\n",
    "for batch_size in batch_sizes:\n",
    "    train_loader = get_loader(train_dataset, batch_size)\n",
    "    test_loader = get_loader(test_dataset, batch_size)\n",
    "    \n",
    "    for lr in learning_rates:\n",
    "        for num_epochs in epochs_list:\n",
    "            model = AlexNet().to(device)\n",
    "            optimizer = torch.optim.Adam(model.parameters(), lr=lr)\n",
    "            criterion = nn.CrossEntropyLoss()\n",
    "\n",
    "            # Training loop\n",
    "            model.train()\n",
    "            for epoch in range(num_epochs):\n",
    "                loop = tqdm(enumerate(train_loader), total=len(train_loader), leave=True)\n",
    "                for i, (inputs, labels) in loop:\n",
    "                    inputs, labels = inputs.to(device), labels.to(device)\n",
    "                    optimizer.zero_grad()\n",
    "                    outputs = model(inputs)\n",
    "                    loss = criterion(outputs, labels)\n",
    "                    loss.backward()\n",
    "                    optimizer.step()\n",
    "\n",
    "                    loop.set_description(f'Epoch {epoch + 1}/{num_epochs}, Batch Size {batch_size}, LR {lr}')\n",
    "                    loop.set_postfix(loss=loss.item())\n",
    "                if (epoch + 1) % 5 == 0:\n",
    "                    true_labels, predicted_labels, probabilities = evaluate_model(model, device, test_loader, classes)\n",
    "                    plot_confusion_matrix(true_labels, predicted_labels, classes, 'results/AlexNet/confusion_matrices', f'batch_{batch_size}_lr_{lr}_epoch_{epoch + 1}')\n",
    "                    plot_roc_curve_multiclass(31, true_labels, probabilities, 'results/AlexNet/roc_curves', f'batch_{batch_size}_lr_{lr}_epoch_{epoch + 1}')\n",
    "                    plot_precision_recall(true_labels, probabilities, 31, 'results/AlexNet/precision_recall', f'batch_{batch_size}_lr_{lr}_epoch_{epoch + 1}')"
   ],
   "id": "e2702dc997ce3869",
   "outputs": [
    {
     "name": "stderr",
     "output_type": "stream",
     "text": [
      "Epoch 1/15, Batch Size 100, LR 0.001: 100%|██████████| 341/341 [01:58<00:00,  2.88it/s, loss=1.41]\n",
      "Epoch 2/15, Batch Size 100, LR 0.001: 100%|██████████| 341/341 [01:51<00:00,  3.07it/s, loss=0.587]\n",
      "Epoch 3/15, Batch Size 100, LR 0.001: 100%|██████████| 341/341 [01:47<00:00,  3.18it/s, loss=0.618]\n",
      "Epoch 4/15, Batch Size 100, LR 0.001: 100%|██████████| 341/341 [01:43<00:00,  3.29it/s, loss=0.527]\n",
      "Epoch 5/15, Batch Size 100, LR 0.001: 100%|██████████| 341/341 [01:43<00:00,  3.28it/s, loss=0.722]\n"
     ]
    },
    {
     "name": "stdout",
     "output_type": "stream",
     "text": [
      "Accuracy: 83.62%\n",
      "F1 Score: 0.83\n"
     ]
    },
    {
     "name": "stderr",
     "output_type": "stream",
     "text": [
      "Epoch 6/15, Batch Size 100, LR 0.001: 100%|██████████| 341/341 [02:04<00:00,  2.74it/s, loss=0.427] \n",
      "Epoch 7/15, Batch Size 100, LR 0.001: 100%|██████████| 341/341 [02:00<00:00,  2.82it/s, loss=0.98]  \n",
      "Epoch 8/15, Batch Size 100, LR 0.001: 100%|██████████| 341/341 [01:49<00:00,  3.12it/s, loss=0.0252]\n",
      "Epoch 9/15, Batch Size 100, LR 0.001: 100%|██████████| 341/341 [01:50<00:00,  3.08it/s, loss=0.0506]\n",
      "Epoch 10/15, Batch Size 100, LR 0.001: 100%|██████████| 341/341 [01:51<00:00,  3.07it/s, loss=0.022] \n"
     ]
    },
    {
     "name": "stdout",
     "output_type": "stream",
     "text": [
      "Accuracy: 88.63%\n",
      "F1 Score: 0.89\n"
     ]
    },
    {
     "name": "stderr",
     "output_type": "stream",
     "text": [
      "Epoch 11/15, Batch Size 100, LR 0.001: 100%|██████████| 341/341 [01:52<00:00,  3.03it/s, loss=0.0258] \n",
      "Epoch 12/15, Batch Size 100, LR 0.001: 100%|██████████| 341/341 [01:50<00:00,  3.09it/s, loss=0.165]  \n",
      "Epoch 13/15, Batch Size 100, LR 0.001: 100%|██████████| 341/341 [01:48<00:00,  3.13it/s, loss=0.0177] \n",
      "Epoch 14/15, Batch Size 100, LR 0.001: 100%|██████████| 341/341 [01:47<00:00,  3.17it/s, loss=0.216]  \n",
      "Epoch 15/15, Batch Size 100, LR 0.001: 100%|██████████| 341/341 [01:46<00:00,  3.20it/s, loss=0.225]  \n"
     ]
    },
    {
     "name": "stdout",
     "output_type": "stream",
     "text": [
      "Accuracy: 88.49%\n",
      "F1 Score: 0.88\n"
     ]
    },
    {
     "name": "stderr",
     "output_type": "stream",
     "text": [
      "Epoch 1/15, Batch Size 100, LR 0.0005: 100%|██████████| 341/341 [01:48<00:00,  3.16it/s, loss=2.16]\n",
      "Epoch 2/15, Batch Size 100, LR 0.0005: 100%|██████████| 341/341 [01:48<00:00,  3.15it/s, loss=0.939]\n",
      "Epoch 3/15, Batch Size 100, LR 0.0005: 100%|██████████| 341/341 [01:44<00:00,  3.25it/s, loss=0.757]\n",
      "Epoch 4/15, Batch Size 100, LR 0.0005: 100%|██████████| 341/341 [01:43<00:00,  3.29it/s, loss=0.203]\n",
      "Epoch 5/15, Batch Size 100, LR 0.0005: 100%|██████████| 341/341 [01:43<00:00,  3.29it/s, loss=0.102]\n"
     ]
    },
    {
     "name": "stdout",
     "output_type": "stream",
     "text": [
      "Accuracy: 89.41%\n",
      "F1 Score: 0.89\n"
     ]
    },
    {
     "name": "stderr",
     "output_type": "stream",
     "text": [
      "Epoch 6/15, Batch Size 100, LR 0.0005: 100%|██████████| 341/341 [01:44<00:00,  3.27it/s, loss=0.159] \n",
      "Epoch 7/15, Batch Size 100, LR 0.0005: 100%|██████████| 341/341 [01:43<00:00,  3.30it/s, loss=0.0185]\n",
      "Epoch 8/15, Batch Size 100, LR 0.0005: 100%|██████████| 341/341 [01:43<00:00,  3.29it/s, loss=0.485] \n",
      "Epoch 9/15, Batch Size 100, LR 0.0005: 100%|██████████| 341/341 [01:44<00:00,  3.25it/s, loss=0.0279]\n",
      "Epoch 10/15, Batch Size 100, LR 0.0005: 100%|██████████| 341/341 [01:45<00:00,  3.24it/s, loss=0.000475]\n"
     ]
    },
    {
     "name": "stdout",
     "output_type": "stream",
     "text": [
      "Accuracy: 92.36%\n",
      "F1 Score: 0.92\n"
     ]
    },
    {
     "name": "stderr",
     "output_type": "stream",
     "text": [
      "Epoch 11/15, Batch Size 100, LR 0.0005: 100%|██████████| 341/341 [01:45<00:00,  3.24it/s, loss=0.0214] \n",
      "Epoch 12/15, Batch Size 100, LR 0.0005: 100%|██████████| 341/341 [01:45<00:00,  3.25it/s, loss=0.205]  \n",
      "Epoch 13/15, Batch Size 100, LR 0.0005: 100%|██████████| 341/341 [01:44<00:00,  3.25it/s, loss=0.0245] \n",
      "Epoch 14/15, Batch Size 100, LR 0.0005: 100%|██████████| 341/341 [01:44<00:00,  3.27it/s, loss=0.000691]\n",
      "Epoch 15/15, Batch Size 100, LR 0.0005: 100%|██████████| 341/341 [01:42<00:00,  3.33it/s, loss=0.00015]\n"
     ]
    },
    {
     "name": "stdout",
     "output_type": "stream",
     "text": [
      "Accuracy: 91.77%\n",
      "F1 Score: 0.92\n"
     ]
    },
    {
     "name": "stderr",
     "output_type": "stream",
     "text": [
      "Epoch 1/15, Batch Size 100, LR 0.0001: 100%|██████████| 341/341 [01:46<00:00,  3.21it/s, loss=1.68]\n",
      "Epoch 2/15, Batch Size 100, LR 0.0001: 100%|██████████| 341/341 [01:47<00:00,  3.18it/s, loss=0.546]\n",
      "Epoch 3/15, Batch Size 100, LR 0.0001: 100%|██████████| 341/341 [01:47<00:00,  3.17it/s, loss=0.582]\n",
      "Epoch 4/15, Batch Size 100, LR 0.0001: 100%|██████████| 341/341 [01:46<00:00,  3.20it/s, loss=0.214]\n",
      "Epoch 5/15, Batch Size 100, LR 0.0001: 100%|██████████| 341/341 [01:45<00:00,  3.24it/s, loss=0.306]\n"
     ]
    },
    {
     "name": "stdout",
     "output_type": "stream",
     "text": [
      "Accuracy: 88.31%\n",
      "F1 Score: 0.88\n"
     ]
    },
    {
     "name": "stderr",
     "output_type": "stream",
     "text": [
      "Epoch 6/15, Batch Size 100, LR 0.0001: 100%|██████████| 341/341 [01:44<00:00,  3.25it/s, loss=0.3]   \n",
      "Epoch 7/15, Batch Size 100, LR 0.0001: 100%|██████████| 341/341 [01:45<00:00,  3.23it/s, loss=0.0476]\n",
      "Epoch 8/15, Batch Size 100, LR 0.0001: 100%|██████████| 341/341 [01:45<00:00,  3.24it/s, loss=0.155] \n",
      "Epoch 9/15, Batch Size 100, LR 0.0001: 100%|██████████| 341/341 [01:42<00:00,  3.32it/s, loss=0.0157]\n",
      "Epoch 10/15, Batch Size 100, LR 0.0001: 100%|██████████| 341/341 [01:46<00:00,  3.21it/s, loss=0.05]  \n"
     ]
    },
    {
     "name": "stdout",
     "output_type": "stream",
     "text": [
      "Accuracy: 91.55%\n",
      "F1 Score: 0.91\n"
     ]
    },
    {
     "name": "stderr",
     "output_type": "stream",
     "text": [
      "Epoch 11/15, Batch Size 100, LR 0.0001: 100%|██████████| 341/341 [01:51<00:00,  3.06it/s, loss=0.00833]\n",
      "Epoch 12/15, Batch Size 100, LR 0.0001: 100%|██████████| 341/341 [01:46<00:00,  3.20it/s, loss=0.018]  \n",
      "Epoch 13/15, Batch Size 100, LR 0.0001: 100%|██████████| 341/341 [01:44<00:00,  3.26it/s, loss=0.00398]\n",
      "Epoch 14/15, Batch Size 100, LR 0.0001: 100%|██████████| 341/341 [01:44<00:00,  3.26it/s, loss=0.132]  \n",
      "Epoch 15/15, Batch Size 100, LR 0.0001: 100%|██████████| 341/341 [01:44<00:00,  3.26it/s, loss=0.000245]\n"
     ]
    },
    {
     "name": "stdout",
     "output_type": "stream",
     "text": [
      "Accuracy: 91.49%\n",
      "F1 Score: 0.92\n"
     ]
    }
   ],
   "execution_count": 8
  },
  {
   "metadata": {},
   "cell_type": "code",
   "outputs": [],
   "execution_count": null,
   "source": "",
   "id": "8bfba17ef7225b2b"
  }
 ],
 "metadata": {
  "kernelspec": {
   "display_name": "Python 3.12 (plantvillage_deeplearning_paper-dataset)",
   "language": "python",
   "name": "myenv"
  },
  "language_info": {
   "codemirror_mode": {
    "name": "ipython",
    "version": 3
   },
   "file_extension": ".py",
   "mimetype": "text/x-python",
   "name": "python",
   "nbconvert_exporter": "python",
   "pygments_lexer": "ipython3",
   "version": "3.11.9"
  }
 },
 "nbformat": 4,
 "nbformat_minor": 5
}
