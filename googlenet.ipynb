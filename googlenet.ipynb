{
 "cells": [
  {
   "cell_type": "code",
   "execution_count": 46,
   "outputs": [
    {
     "name": "stdout",
     "output_type": "stream",
     "text": [
      "True\n",
      "Using device: cuda\n",
      "Device name: NVIDIA GeForce RTX 2060\n",
      "Memory Allocated: 45.2021484375 megabytes\n",
      "Memory Cached: 1416.0 megabytes\n",
      "Total Memory: 6143.6875 megabytes\n"
     ]
    }
   ],
   "source": [
    "import torch\n",
    "from sklearn.metrics import accuracy_score, confusion_matrix, f1_score, roc_curve, roc_auc_score, precision_recall_curve, auc\n",
    "import matplotlib.pyplot as plt\n",
    "from sklearn.preprocessing import label_binarize\n",
    "import numpy as np\n",
    "import seaborn as sns\n",
    "import torch.nn.functional as F\n",
    "print(torch.cuda.is_available())\n",
    "device = torch.device(\"cuda\" if torch.cuda.is_available() else \"cpu\")\n",
    "print(f\"Using device: {device}\")\n",
    "\n",
    "if device.type == 'cuda':\n",
    "    print(f\"Device name: {torch.cuda.get_device_name(0)}\")\n",
    "    print(f\"Memory Allocated: {torch.cuda.memory_allocated(0) / 1024. / 1024.} megabytes\")\n",
    "    print(f\"Memory Cached: {torch.cuda.memory_reserved(0) / 1024. / 1024.} megabytes\")\n",
    "    print(f\"Total Memory: {torch.cuda.get_device_properties(0).total_memory / 1024. / 1024.} megabytes\")\n",
    "else:\n",
    "    print(\"CUDA is not available. Using CPU instead.\")"
   ],
   "metadata": {
    "collapsed": false,
    "ExecuteTime": {
     "end_time": "2024-04-21T08:11:24.962104300Z",
     "start_time": "2024-04-21T08:11:24.948886600Z"
    }
   },
   "id": "b64631287438bd03"
  },
  {
   "cell_type": "code",
   "execution_count": 47,
   "id": "initial_id",
   "metadata": {
    "collapsed": true,
    "ExecuteTime": {
     "end_time": "2024-04-21T08:11:24.965111600Z",
     "start_time": "2024-04-21T08:11:24.958590500Z"
    }
   },
   "outputs": [],
   "source": [
    "import os\n",
    "from PIL import Image\n",
    "from torch.utils.data import Dataset, DataLoader\n",
    "from torchvision import transforms\n",
    "import torch.nn as nn\n",
    "\n",
    "class ImageDataset(Dataset):\n",
    "    def __init__(self, txt_loc, transform=None):\n",
    "        print(\"Initializing image dataset.\")\n",
    "        self.image_labels = []\n",
    "        self.image_paths = self.find_full_paths(txt_loc)\n",
    "        self.transform = transform\n",
    "        print(f\"Total images found: {len(self.image_paths)}\")\n",
    "\n",
    "    def __len__(self):\n",
    "        return len(self.image_paths)\n",
    "\n",
    "    def __getitem__(self, index):\n",
    "        img_path, label = self.image_paths[index]\n",
    "        try:\n",
    "            image = Image.open(img_path)\n",
    "            if self.transform:\n",
    "                image = self.transform(image)\n",
    "            return image, torch.tensor(label, dtype=torch.long)\n",
    "        except IOError as e:\n",
    "            print(f\"Error loading image {img_path}: {e}\")\n",
    "            return None, None\n",
    "\n",
    "    def find_file_by_suffix(self, directory, filename_suffix):\n",
    "        for root, dirs, files in os.walk(directory):\n",
    "            for filename in files:\n",
    "                if filename.endswith(filename_suffix):\n",
    "                    return os.path.join(root, filename)\n",
    "        return None\n",
    "\n",
    "    def find_full_paths(self, txt_loc):\n",
    "        data_dirs = os.listdir(\"color/\")\n",
    "        final_paths = []\n",
    "        with open(txt_loc, 'r') as infile:\n",
    "            lines = [line.strip() for line in infile.readlines()]\n",
    "        for line in lines:\n",
    "            parts = line.rsplit(' ', 1)\n",
    "            filename = parts[0]\n",
    "            label = int(parts[1]) - 1\n",
    "            directory_index = label\n",
    "            file_location = f'color/{data_dirs[directory_index]}/'\n",
    "            full_path = self.find_file_by_suffix(file_location, filename)\n",
    "            if full_path:\n",
    "                final_paths.append((full_path, label))\n",
    "            else:\n",
    "                print(f\"File not found: {filename} in {file_location}\")\n",
    "        return final_paths"
   ]
  },
  {
   "cell_type": "code",
   "execution_count": 48,
   "outputs": [],
   "source": [
    "import torch\n",
    "import torch.nn as nn\n",
    "import torch.nn.functional as F\n",
    "from torch.utils.data import DataLoader\n",
    "from torchvision import datasets, transforms\n",
    "\n",
    "class InceptionModule(nn.Module):\n",
    "    def __init__(self, in_channels, f1, f3_reduce, f3, f5_reduce, f5, pool_proj):\n",
    "        super(InceptionModule, self).__init__()\n",
    "        self.branch1 = nn.Conv2d(in_channels, f1, kernel_size=1)\n",
    "\n",
    "        self.branch2 = nn.Sequential(\n",
    "            nn.Conv2d(in_channels, f3_reduce, kernel_size=1),\n",
    "            nn.Conv2d(f3_reduce, f3, kernel_size=3, padding=1)\n",
    "        )\n",
    "\n",
    "        self.branch3 = nn.Sequential(\n",
    "            nn.Conv2d(in_channels, f5_reduce, kernel_size=1),\n",
    "            nn.Conv2d(f5_reduce, f5, kernel_size=5, padding=2)\n",
    "        )\n",
    "\n",
    "        self.branch4 = nn.Sequential(\n",
    "            nn.MaxPool2d(kernel_size=3, stride=1, padding=1),\n",
    "            nn.Conv2d(in_channels, pool_proj, kernel_size=1)\n",
    "        )\n",
    "\n",
    "    def forward(self, x):\n",
    "        branch1 = self.branch1(x)\n",
    "        branch2 = self.branch2(x)\n",
    "        branch3 = self.branch3(x)\n",
    "        branch4 = self.branch4(x)\n",
    "        outputs = [branch1, branch2, branch3, branch4]\n",
    "        return torch.cat(outputs, 1)"
   ],
   "metadata": {
    "collapsed": false,
    "ExecuteTime": {
     "end_time": "2024-04-21T08:11:24.974295300Z",
     "start_time": "2024-04-21T08:11:24.968111400Z"
    }
   },
   "id": "e1feeba4e87631fb"
  },
  {
   "cell_type": "code",
   "execution_count": 49,
   "outputs": [],
   "source": [
    "class GoogLeNet(nn.Module):\n",
    "    def __init__(self, num_classes=31):\n",
    "        super(GoogLeNet, self).__init__()\n",
    "        self.pre_layers = nn.Sequential(\n",
    "            nn.Conv2d(3, 64, kernel_size=7, stride=2, padding=3),\n",
    "            nn.MaxPool2d(kernel_size=3, stride=2, padding=1),\n",
    "            nn.LocalResponseNorm(size=5, alpha=1e-4, beta=0.75, k=2),\n",
    "            nn.Conv2d(64, 64, kernel_size=1),\n",
    "            nn.Conv2d(64, 192, kernel_size=3, padding=1),\n",
    "            nn.LocalResponseNorm(size=5, alpha=1e-4, beta=0.75, k=2),\n",
    "            nn.MaxPool2d(kernel_size=3, stride=2, padding=1),\n",
    "        )\n",
    "\n",
    "        # Add inception blocks with the corresponding parameters\n",
    "        self.a3 = InceptionModule(192, 64, 96, 128, 16, 32, 32)\n",
    "        self.b3 = InceptionModule(256, 128, 128, 192, 32, 96, 64)\n",
    "        self.maxpool = nn.MaxPool2d(kernel_size=3, stride=2, padding=1)\n",
    "        # More inception modules would be added here following the original architecture\n",
    "\n",
    "        self.avgpool = nn.AdaptiveAvgPool2d((1, 1))\n",
    "        self.dropout = nn.Dropout(0.4)\n",
    "        self.fc = nn.Linear(480, num_classes)  # Adjust the input size to 480\n",
    "\n",
    "    def forward(self, x):\n",
    "        x = self.pre_layers(x)\n",
    "        x = self.a3(x)\n",
    "        x = self.b3(x)\n",
    "        x = self.maxpool(x)\n",
    "        x = self.avgpool(x)\n",
    "        x = x.view(x.size(0), -1)    \n",
    "        x = self.dropout(x)\n",
    "        x = self.fc(x)\n",
    "        return x\n"
   ],
   "metadata": {
    "collapsed": false,
    "ExecuteTime": {
     "end_time": "2024-04-21T08:11:24.999875100Z",
     "start_time": "2024-04-21T08:11:24.980296700Z"
    }
   },
   "id": "dd476aca485cd8e4"
  },
  {
   "cell_type": "code",
   "execution_count": 50,
   "outputs": [
    {
     "name": "stdout",
     "output_type": "stream",
     "text": [
      "Initializing image dataset.\n",
      "Total images found: 34011\n",
      "Initializing image dataset.\n",
      "Total images found: 8498\n"
     ]
    }
   ],
   "source": [
    "transform = transforms.Compose([\n",
    "    transforms.CenterCrop(224),\n",
    "    transforms.ToTensor(),\n",
    "    transforms.Normalize(mean=[0.485, 0.456, 0.406], std=[0.229, 0.224, 0.225])\n",
    "])\n",
    "\n",
    "classes = [i for i in range(1, 32)]\n",
    "train_dataset = ImageDataset(txt_loc='./train.txt', transform=transform)\n",
    "test_dataset = ImageDataset(txt_loc='./test.txt', transform=transform)\n",
    "test_loader = DataLoader(test_dataset, batch_size=32, shuffle=True, num_workers=0)"
   ],
   "metadata": {
    "collapsed": false,
    "ExecuteTime": {
     "end_time": "2024-04-21T08:14:16.547148600Z",
     "start_time": "2024-04-21T08:11:24.985875100Z"
    }
   },
   "id": "d2a0a32cb9bbba46"
  },
  {
   "cell_type": "code",
   "execution_count": 51,
   "outputs": [],
   "source": [
    "classes = [f'{i}' for i in range(1, 32)]\n",
    "\n",
    "def plot_confusion_matrix(true_labels, predicted_labels, classes, save_path, file_suffix):\n",
    "    cm = confusion_matrix(true_labels, predicted_labels)\n",
    "    plt.figure(figsize=(10, 8))\n",
    "    sns.heatmap(cm, annot=True, cmap=plt.cm.Purples, fmt='g', \n",
    "                 xticklabels=classes, yticklabels=classes)\n",
    "    plt.xlabel('Predicted Label')\n",
    "    plt.ylabel('True Label')\n",
    "    plt.title('Confusion Matrix')\n",
    "    plt.savefig(f'{save_path}/confusion_matrix_{file_suffix}.png')\n",
    "    plt.close()\n",
    "    \n",
    "def plot_roc_curve_multiclass(num_classes, true_labels, probabilities, save_path, file_suffix):\n",
    "    true_labels = label_binarize(true_labels, classes=[i for i in range(num_classes)])\n",
    "    n_classes = true_labels.shape[1]\n",
    "    \n",
    "    fpr = dict()\n",
    "    tpr = dict()\n",
    "    roc_auc = dict()\n",
    "    for i in range(n_classes):\n",
    "        fpr[i], tpr[i], _ = roc_curve(true_labels[:, i], probabilities[:, i])\n",
    "        roc_auc[i] = auc(fpr[i], tpr[i])\n",
    "\n",
    "    plt.figure(figsize=(10, 8))\n",
    "    colors = iter(plt.cm.rainbow(np.linspace(0, 1, n_classes)))\n",
    "    for i in range(n_classes):\n",
    "        plt.plot(fpr[i], tpr[i], color=next(colors), label=f'Class {i} (AUC = {roc_auc[i]:.2f})')\n",
    "    \n",
    "    plt.plot([0, 1], [0, 1], 'k--')\n",
    "    plt.xlim([0.0, 1.0])\n",
    "    plt.ylim([0.0, 1.05])\n",
    "    plt.xlabel('False Positive Rate')\n",
    "    plt.ylabel('True Positive Rate')\n",
    "    plt.title('Multi-class ROC Curve')\n",
    "    plt.legend(loc=\"lower right\")\n",
    "    plt.savefig(f'{save_path}/roc_curve_multiclass_{file_suffix}.png')\n",
    "    plt.close()\n",
    "\n",
    "def plot_precision_recall(labels, probabilities, num_classes, save_path, file_suffix):\n",
    "    labels = label_binarize(labels, classes=[i for i in range(num_classes)])\n",
    "    \n",
    "    precision = dict()\n",
    "    recall = dict()\n",
    "    pr_auc = dict()\n",
    "\n",
    "    for i in range(num_classes):\n",
    "        precision[i], recall[i], _ = precision_recall_curve(labels[:, i], probabilities[:, i])\n",
    "        pr_auc[i] = auc(recall[i], precision[i])\n",
    "\n",
    "    plt.figure(figsize=(10, 8))\n",
    "    for i in range(num_classes):\n",
    "        plt.plot(recall[i], precision[i], lw=2, label=f'Class {i} (PR AUC = {pr_auc[i]:.2f})')\n",
    "\n",
    "    plt.xlabel('Recall')\n",
    "    plt.ylabel('Precision')\n",
    "    plt.title('Class-wise Precision-Recall Curves')\n",
    "    plt.legend(loc=\"best\")\n",
    "    plt.savefig(f'{save_path}/precision_recall_curves_{file_suffix}.png')\n",
    "    plt.close()\n",
    "\n",
    "    \n",
    "def evaluate_model(model, device, data_loader, classes):\n",
    "    model.eval()\n",
    "    correct = 0\n",
    "    total = 0\n",
    "    true_labels = []\n",
    "    predicted_labels = []\n",
    "    probabilities_list = []\n",
    "\n",
    "    with torch.no_grad():\n",
    "        for inputs, labels in data_loader:\n",
    "            inputs, labels = inputs.to(device), labels.to(device)\n",
    "            outputs = model(inputs)\n",
    "\n",
    "            probabilities = F.softmax(outputs, dim=1)\n",
    "            probabilities_list.append(probabilities.cpu())\n",
    "            \n",
    "            _, predicted = torch.max(outputs.data, 1)\n",
    "            total += labels.size(0)\n",
    "            correct += (predicted == labels).sum().item()\n",
    "            true_labels.extend(labels.cpu().numpy())\n",
    "            predicted_labels.extend(predicted.cpu().numpy())\n",
    "\n",
    "    accuracy = 100 * correct / total\n",
    "    f1 = f1_score(true_labels, predicted_labels, average='weighted')\n",
    "    print(f'Accuracy: {accuracy:.2f}%')\n",
    "    print(f'F1 Score: {f1:.2f}')\n",
    "\n",
    "    probabilities = torch.cat(probabilities_list, dim=0)\n",
    "    true_labels = torch.tensor(true_labels)\n",
    "        \n",
    "    return true_labels, predicted_labels, probabilities"
   ],
   "metadata": {
    "collapsed": false,
    "ExecuteTime": {
     "end_time": "2024-04-21T08:14:16.563764Z",
     "start_time": "2024-04-21T08:14:16.541148600Z"
    }
   },
   "id": "46e01d10405c0ba5"
  },
  {
   "cell_type": "code",
   "execution_count": 52,
   "outputs": [],
   "source": [
    "batch_sizes = [32, 1]\n",
    "learning_rates = [0.001, 0.0005, 0.0001]\n",
    "epochs = [20]"
   ],
   "metadata": {
    "collapsed": false,
    "ExecuteTime": {
     "end_time": "2024-04-21T08:14:16.573763700Z",
     "start_time": "2024-04-21T08:14:16.556906100Z"
    }
   },
   "id": "5ee9c6172da84581"
  },
  {
   "cell_type": "code",
   "execution_count": 53,
   "outputs": [
    {
     "name": "stdout",
     "output_type": "stream",
     "text": [
      "Starting training with batch size=32, learning rate=0.001, epoch=20\n"
     ]
    },
    {
     "name": "stderr",
     "output_type": "stream",
     "text": [
      "Epoch [1/20]: 100%|██████████| 1063/1063 [02:41<00:00,  6.56it/s, loss=1.56]\n",
      "Epoch [2/20]: 100%|██████████| 1063/1063 [02:37<00:00,  6.74it/s, loss=0.853]\n",
      "Epoch [3/20]: 100%|██████████| 1063/1063 [02:41<00:00,  6.57it/s, loss=0.606]\n",
      "Epoch [4/20]: 100%|██████████| 1063/1063 [02:43<00:00,  6.50it/s, loss=0.481]\n",
      "Epoch [5/20]: 100%|██████████| 1063/1063 [02:45<00:00,  6.41it/s, loss=0.401]\n"
     ]
    },
    {
     "name": "stdout",
     "output_type": "stream",
     "text": [
      "Accuracy: 92.22%\n",
      "F1 Score: 0.92\n"
     ]
    },
    {
     "name": "stderr",
     "output_type": "stream",
     "text": [
      "Epoch [6/20]: 100%|██████████| 1063/1063 [02:39<00:00,  6.66it/s, loss=0.275]\n",
      "Epoch [7/20]: 100%|██████████| 1063/1063 [02:44<00:00,  6.45it/s, loss=0.268]\n",
      "Epoch [8/20]: 100%|██████████| 1063/1063 [02:46<00:00,  6.39it/s, loss=0.235]\n",
      "Epoch [9/20]: 100%|██████████| 1063/1063 [02:47<00:00,  6.35it/s, loss=0.214]\n",
      "Epoch [10/20]: 100%|██████████| 1063/1063 [02:48<00:00,  6.30it/s, loss=0.197]\n"
     ]
    },
    {
     "name": "stdout",
     "output_type": "stream",
     "text": [
      "Accuracy: 92.15%\n",
      "F1 Score: 0.92\n"
     ]
    },
    {
     "name": "stderr",
     "output_type": "stream",
     "text": [
      "Epoch [11/20]: 100%|██████████| 1063/1063 [02:45<00:00,  6.44it/s, loss=0.186]\n",
      "Epoch [12/20]: 100%|██████████| 1063/1063 [02:48<00:00,  6.31it/s, loss=0.192]\n",
      "Epoch [13/20]: 100%|██████████| 1063/1063 [02:50<00:00,  6.24it/s, loss=0.144]\n",
      "Epoch [14/20]: 100%|██████████| 1063/1063 [02:53<00:00,  6.13it/s, loss=0.148]\n",
      "Epoch [15/20]: 100%|██████████| 1063/1063 [02:52<00:00,  6.15it/s, loss=0.146]\n"
     ]
    },
    {
     "name": "stdout",
     "output_type": "stream",
     "text": [
      "Accuracy: 95.58%\n",
      "F1 Score: 0.96\n"
     ]
    },
    {
     "name": "stderr",
     "output_type": "stream",
     "text": [
      "Epoch [16/20]: 100%|██████████| 1063/1063 [02:45<00:00,  6.41it/s, loss=0.124]\n",
      "Epoch [17/20]: 100%|██████████| 1063/1063 [02:49<00:00,  6.28it/s, loss=0.21] \n",
      "Epoch [18/20]: 100%|██████████| 1063/1063 [02:50<00:00,  6.22it/s, loss=0.0727]\n",
      "Epoch [19/20]: 100%|██████████| 1063/1063 [02:51<00:00,  6.20it/s, loss=0.141]\n",
      "Epoch [20/20]: 100%|██████████| 1063/1063 [02:52<00:00,  6.16it/s, loss=0.123]\n"
     ]
    },
    {
     "name": "stdout",
     "output_type": "stream",
     "text": [
      "Accuracy: 95.56%\n",
      "F1 Score: 0.96\n",
      "Starting training with batch size=32, learning rate=0.0005, epoch=20\n"
     ]
    },
    {
     "name": "stderr",
     "output_type": "stream",
     "text": [
      "Epoch [1/20]: 100%|██████████| 1063/1063 [02:45<00:00,  6.44it/s, loss=0.0982]\n",
      "Epoch [2/20]: 100%|██████████| 1063/1063 [02:49<00:00,  6.26it/s, loss=0.0819]\n",
      "Epoch [3/20]: 100%|██████████| 1063/1063 [02:49<00:00,  6.26it/s, loss=0.0758]\n",
      "Epoch [4/20]: 100%|██████████| 1063/1063 [02:51<00:00,  6.21it/s, loss=0.0783]\n",
      "Epoch [5/20]: 100%|██████████| 1063/1063 [02:52<00:00,  6.18it/s, loss=0.0754]\n"
     ]
    },
    {
     "name": "stdout",
     "output_type": "stream",
     "text": [
      "Accuracy: 96.60%\n",
      "F1 Score: 0.97\n"
     ]
    },
    {
     "name": "stderr",
     "output_type": "stream",
     "text": [
      "Epoch [6/20]: 100%|██████████| 1063/1063 [02:47<00:00,  6.33it/s, loss=0.0146]\n",
      "Epoch [7/20]: 100%|██████████| 1063/1063 [02:51<00:00,  6.21it/s, loss=0.038] \n",
      "Epoch [8/20]: 100%|██████████| 1063/1063 [02:52<00:00,  6.17it/s, loss=0.0323]\n",
      "Epoch [9/20]: 100%|██████████| 1063/1063 [02:51<00:00,  6.18it/s, loss=0.0314]\n",
      "Epoch [10/20]: 100%|██████████| 1063/1063 [02:52<00:00,  6.18it/s, loss=0.0311]\n"
     ]
    },
    {
     "name": "stdout",
     "output_type": "stream",
     "text": [
      "Accuracy: 97.18%\n",
      "F1 Score: 0.97\n"
     ]
    },
    {
     "name": "stderr",
     "output_type": "stream",
     "text": [
      "Epoch [11/20]: 100%|██████████| 1063/1063 [02:46<00:00,  6.37it/s, loss=0.0407]\n",
      "Epoch [12/20]: 100%|██████████| 1063/1063 [02:51<00:00,  6.21it/s, loss=0.0265]\n",
      "Epoch [13/20]: 100%|██████████| 1063/1063 [02:52<00:00,  6.16it/s, loss=0.0314]\n",
      "Epoch [14/20]: 100%|██████████| 1063/1063 [02:52<00:00,  6.15it/s, loss=0.0287]\n",
      "Epoch [15/20]: 100%|██████████| 1063/1063 [02:55<00:00,  6.07it/s, loss=0.0282]\n"
     ]
    },
    {
     "name": "stdout",
     "output_type": "stream",
     "text": [
      "Accuracy: 98.06%\n",
      "F1 Score: 0.98\n"
     ]
    },
    {
     "name": "stderr",
     "output_type": "stream",
     "text": [
      "Epoch [16/20]: 100%|██████████| 1063/1063 [02:46<00:00,  6.39it/s, loss=0.0391]\n",
      "Epoch [17/20]: 100%|██████████| 1063/1063 [02:53<00:00,  6.14it/s, loss=0.0314]\n",
      "Epoch [18/20]: 100%|██████████| 1063/1063 [02:51<00:00,  6.20it/s, loss=0.0212]\n",
      "Epoch [19/20]: 100%|██████████| 1063/1063 [02:51<00:00,  6.19it/s, loss=0.0462]\n",
      "Epoch [20/20]: 100%|██████████| 1063/1063 [02:51<00:00,  6.20it/s, loss=0.0188]\n"
     ]
    },
    {
     "name": "stdout",
     "output_type": "stream",
     "text": [
      "Accuracy: 94.95%\n",
      "F1 Score: 0.95\n",
      "Starting training with batch size=32, learning rate=0.0001, epoch=20\n"
     ]
    },
    {
     "name": "stderr",
     "output_type": "stream",
     "text": [
      "Epoch [1/20]: 100%|██████████| 1063/1063 [02:49<00:00,  6.27it/s, loss=0.0305]\n",
      "Epoch [2/20]: 100%|██████████| 1063/1063 [02:55<00:00,  6.05it/s, loss=0.015] \n",
      "Epoch [3/20]: 100%|██████████| 1063/1063 [02:53<00:00,  6.12it/s, loss=0.011] \n",
      "Epoch [4/20]: 100%|██████████| 1063/1063 [02:52<00:00,  6.17it/s, loss=0.0113]\n",
      "Epoch [5/20]: 100%|██████████| 1063/1063 [02:52<00:00,  6.16it/s, loss=0.0098] \n"
     ]
    },
    {
     "name": "stdout",
     "output_type": "stream",
     "text": [
      "Accuracy: 98.76%\n",
      "F1 Score: 0.99\n"
     ]
    },
    {
     "name": "stderr",
     "output_type": "stream",
     "text": [
      "Epoch [6/20]: 100%|██████████| 1063/1063 [02:48<00:00,  6.31it/s, loss=0.000245]\n",
      "Epoch [7/20]: 100%|██████████| 1063/1063 [02:49<00:00,  6.27it/s, loss=0.000133]\n",
      "Epoch [8/20]: 100%|██████████| 1063/1063 [02:49<00:00,  6.27it/s, loss=0.000105]\n",
      "Epoch [9/20]: 100%|██████████| 1063/1063 [02:51<00:00,  6.20it/s, loss=8.46e-5]\n",
      "Epoch [10/20]: 100%|██████████| 1063/1063 [02:52<00:00,  6.17it/s, loss=6.79e-5]\n"
     ]
    },
    {
     "name": "stdout",
     "output_type": "stream",
     "text": [
      "Accuracy: 98.98%\n",
      "F1 Score: 0.99\n"
     ]
    },
    {
     "name": "stderr",
     "output_type": "stream",
     "text": [
      "Epoch [11/20]: 100%|██████████| 1063/1063 [02:46<00:00,  6.39it/s, loss=5.29e-5]\n",
      "Epoch [12/20]: 100%|██████████| 1063/1063 [02:49<00:00,  6.27it/s, loss=3.79e-5]\n",
      "Epoch [13/20]: 100%|██████████| 1063/1063 [02:50<00:00,  6.23it/s, loss=2.6e-5] \n",
      "Epoch [14/20]: 100%|██████████| 1063/1063 [02:51<00:00,  6.21it/s, loss=1.94e-5]\n",
      "Epoch [15/20]: 100%|██████████| 1063/1063 [02:53<00:00,  6.13it/s, loss=0.0032] \n"
     ]
    },
    {
     "name": "stdout",
     "output_type": "stream",
     "text": [
      "Accuracy: 98.78%\n",
      "F1 Score: 0.99\n"
     ]
    },
    {
     "name": "stderr",
     "output_type": "stream",
     "text": [
      "Epoch [16/20]: 100%|██████████| 1063/1063 [02:46<00:00,  6.37it/s, loss=4.3e-5] \n",
      "Epoch [17/20]: 100%|██████████| 1063/1063 [02:50<00:00,  6.23it/s, loss=2.69e-5]\n",
      "Epoch [18/20]: 100%|██████████| 1063/1063 [02:50<00:00,  6.25it/s, loss=2.06e-5]\n",
      "Epoch [19/20]: 100%|██████████| 1063/1063 [02:51<00:00,  6.22it/s, loss=1.57e-5]\n",
      "Epoch [20/20]: 100%|██████████| 1063/1063 [02:52<00:00,  6.18it/s, loss=1.19e-5]\n"
     ]
    },
    {
     "name": "stdout",
     "output_type": "stream",
     "text": [
      "Accuracy: 98.93%\n",
      "F1 Score: 0.99\n",
      "Starting training with batch size=1, learning rate=0.001, epoch=20\n"
     ]
    },
    {
     "name": "stderr",
     "output_type": "stream",
     "text": [
      "Epoch [1/20]: 100%|██████████| 34011/34011 [07:46<00:00, 72.84it/s, loss=3.44]\n",
      "Epoch [2/20]: 100%|██████████| 34011/34011 [07:38<00:00, 74.11it/s, loss=3.03]\n",
      "Epoch [3/20]: 100%|██████████| 34011/34011 [08:00<00:00, 70.81it/s, loss=3.15]\n",
      "Epoch [4/20]: 100%|██████████| 34011/34011 [07:46<00:00, 72.94it/s, loss=3.33]\n",
      "Epoch [5/20]: 100%|██████████| 34011/34011 [07:46<00:00, 72.98it/s, loss=3.52]\n"
     ]
    },
    {
     "name": "stdout",
     "output_type": "stream",
     "text": [
      "Accuracy: 78.77%\n",
      "F1 Score: 0.78\n"
     ]
    },
    {
     "name": "stderr",
     "output_type": "stream",
     "text": [
      "Epoch [6/20]: 100%|██████████| 34011/34011 [07:39<00:00, 74.08it/s, loss=2.45]\n",
      "Epoch [7/20]: 100%|██████████| 34011/34011 [07:41<00:00, 73.72it/s, loss=2.27]\n",
      "Epoch [8/20]: 100%|██████████| 34011/34011 [07:42<00:00, 73.54it/s, loss=1.97]\n",
      "Epoch [9/20]: 100%|██████████| 34011/34011 [07:43<00:00, 73.30it/s, loss=2.49]\n",
      "Epoch [10/20]: 100%|██████████| 34011/34011 [07:45<00:00, 73.01it/s, loss=2.7] \n"
     ]
    },
    {
     "name": "stdout",
     "output_type": "stream",
     "text": [
      "Accuracy: 89.55%\n",
      "F1 Score: 0.90\n"
     ]
    },
    {
     "name": "stderr",
     "output_type": "stream",
     "text": [
      "Epoch [11/20]: 100%|██████████| 34011/34011 [07:39<00:00, 74.05it/s, loss=2.24]\n",
      "Epoch [12/20]: 100%|██████████| 34011/34011 [07:39<00:00, 74.01it/s, loss=2.41]\n",
      "Epoch [13/20]: 100%|██████████| 34011/34011 [07:43<00:00, 73.45it/s, loss=2.27]\n",
      "Epoch [14/20]: 100%|██████████| 34011/34011 [07:42<00:00, 73.58it/s, loss=2.64]\n",
      "Epoch [15/20]: 100%|██████████| 34011/34011 [07:42<00:00, 73.57it/s, loss=2.81]\n"
     ]
    },
    {
     "name": "stdout",
     "output_type": "stream",
     "text": [
      "Accuracy: 86.42%\n",
      "F1 Score: 0.87\n"
     ]
    },
    {
     "name": "stderr",
     "output_type": "stream",
     "text": [
      "Epoch [16/20]:   9%|▉         | 3041/34011 [00:41<07:03, 73.20it/s, loss=2.43]\n"
     ]
    },
    {
     "ename": "KeyboardInterrupt",
     "evalue": "",
     "output_type": "error",
     "traceback": [
      "\u001B[1;31m---------------------------------------------------------------------------\u001B[0m",
      "\u001B[1;31mKeyboardInterrupt\u001B[0m                         Traceback (most recent call last)",
      "Cell \u001B[1;32mIn[53], line 33\u001B[0m\n\u001B[0;32m     31\u001B[0m     total_loss \u001B[38;5;241m+\u001B[39m\u001B[38;5;241m=\u001B[39m loss\u001B[38;5;241m.\u001B[39mitem()\n\u001B[0;32m     32\u001B[0m     loop\u001B[38;5;241m.\u001B[39mset_description(\u001B[38;5;124mf\u001B[39m\u001B[38;5;124m'\u001B[39m\u001B[38;5;124mEpoch [\u001B[39m\u001B[38;5;132;01m{\u001B[39;00mcurr_epoch\u001B[38;5;250m \u001B[39m\u001B[38;5;241m+\u001B[39m\u001B[38;5;250m \u001B[39m\u001B[38;5;241m1\u001B[39m\u001B[38;5;132;01m}\u001B[39;00m\u001B[38;5;124m/\u001B[39m\u001B[38;5;132;01m{\u001B[39;00mepoch\u001B[38;5;132;01m}\u001B[39;00m\u001B[38;5;124m]\u001B[39m\u001B[38;5;124m'\u001B[39m)\n\u001B[1;32m---> 33\u001B[0m     \u001B[43mloop\u001B[49m\u001B[38;5;241;43m.\u001B[39;49m\u001B[43mset_postfix\u001B[49m\u001B[43m(\u001B[49m\u001B[43mloss\u001B[49m\u001B[38;5;241;43m=\u001B[39;49m\u001B[43mtotal_loss\u001B[49m\u001B[38;5;241;43m/\u001B[39;49m\u001B[43m(\u001B[49m\u001B[43mi\u001B[49m\u001B[43m \u001B[49m\u001B[38;5;241;43m+\u001B[39;49m\u001B[43m \u001B[49m\u001B[38;5;241;43m1\u001B[39;49m\u001B[43m)\u001B[49m\u001B[43m)\u001B[49m\n\u001B[0;32m     35\u001B[0m \u001B[38;5;28;01mif\u001B[39;00m (curr_epoch \u001B[38;5;241m+\u001B[39m \u001B[38;5;241m1\u001B[39m) \u001B[38;5;241m%\u001B[39m \u001B[38;5;241m5\u001B[39m \u001B[38;5;241m==\u001B[39m \u001B[38;5;241m0\u001B[39m:\n\u001B[0;32m     36\u001B[0m     true_labels, predicted_labels, probabilities \u001B[38;5;241m=\u001B[39m evaluate_model(model, device, test_loader, classes)\n",
      "File \u001B[1;32m~\\AppData\\Local\\Programs\\Python\\Python312\\Lib\\site-packages\\tqdm\\std.py:1431\u001B[0m, in \u001B[0;36mtqdm.set_postfix\u001B[1;34m(self, ordered_dict, refresh, **kwargs)\u001B[0m\n\u001B[0;32m   1428\u001B[0m \u001B[38;5;28mself\u001B[39m\u001B[38;5;241m.\u001B[39mpostfix \u001B[38;5;241m=\u001B[39m \u001B[38;5;124m'\u001B[39m\u001B[38;5;124m, \u001B[39m\u001B[38;5;124m'\u001B[39m\u001B[38;5;241m.\u001B[39mjoin(key \u001B[38;5;241m+\u001B[39m \u001B[38;5;124m'\u001B[39m\u001B[38;5;124m=\u001B[39m\u001B[38;5;124m'\u001B[39m \u001B[38;5;241m+\u001B[39m postfix[key]\u001B[38;5;241m.\u001B[39mstrip()\n\u001B[0;32m   1429\u001B[0m                          \u001B[38;5;28;01mfor\u001B[39;00m key \u001B[38;5;129;01min\u001B[39;00m postfix\u001B[38;5;241m.\u001B[39mkeys())\n\u001B[0;32m   1430\u001B[0m \u001B[38;5;28;01mif\u001B[39;00m refresh:\n\u001B[1;32m-> 1431\u001B[0m     \u001B[38;5;28;43mself\u001B[39;49m\u001B[38;5;241;43m.\u001B[39;49m\u001B[43mrefresh\u001B[49m\u001B[43m(\u001B[49m\u001B[43m)\u001B[49m\n",
      "File \u001B[1;32m~\\AppData\\Local\\Programs\\Python\\Python312\\Lib\\site-packages\\tqdm\\std.py:1347\u001B[0m, in \u001B[0;36mtqdm.refresh\u001B[1;34m(self, nolock, lock_args)\u001B[0m\n\u001B[0;32m   1345\u001B[0m     \u001B[38;5;28;01melse\u001B[39;00m:\n\u001B[0;32m   1346\u001B[0m         \u001B[38;5;28mself\u001B[39m\u001B[38;5;241m.\u001B[39m_lock\u001B[38;5;241m.\u001B[39macquire()\n\u001B[1;32m-> 1347\u001B[0m \u001B[38;5;28;43mself\u001B[39;49m\u001B[38;5;241;43m.\u001B[39;49m\u001B[43mdisplay\u001B[49m\u001B[43m(\u001B[49m\u001B[43m)\u001B[49m\n\u001B[0;32m   1348\u001B[0m \u001B[38;5;28;01mif\u001B[39;00m \u001B[38;5;129;01mnot\u001B[39;00m nolock:\n\u001B[0;32m   1349\u001B[0m     \u001B[38;5;28mself\u001B[39m\u001B[38;5;241m.\u001B[39m_lock\u001B[38;5;241m.\u001B[39mrelease()\n",
      "File \u001B[1;32m~\\AppData\\Local\\Programs\\Python\\Python312\\Lib\\site-packages\\tqdm\\std.py:1495\u001B[0m, in \u001B[0;36mtqdm.display\u001B[1;34m(self, msg, pos)\u001B[0m\n\u001B[0;32m   1493\u001B[0m \u001B[38;5;28;01mif\u001B[39;00m pos:\n\u001B[0;32m   1494\u001B[0m     \u001B[38;5;28mself\u001B[39m\u001B[38;5;241m.\u001B[39mmoveto(pos)\n\u001B[1;32m-> 1495\u001B[0m \u001B[38;5;28;43mself\u001B[39;49m\u001B[38;5;241;43m.\u001B[39;49m\u001B[43msp\u001B[49m\u001B[43m(\u001B[49m\u001B[38;5;28;43mself\u001B[39;49m\u001B[38;5;241;43m.\u001B[39;49m\u001B[38;5;21;43m__str__\u001B[39;49m\u001B[43m(\u001B[49m\u001B[43m)\u001B[49m\u001B[43m \u001B[49m\u001B[38;5;28;43;01mif\u001B[39;49;00m\u001B[43m \u001B[49m\u001B[43mmsg\u001B[49m\u001B[43m \u001B[49m\u001B[38;5;129;43;01mis\u001B[39;49;00m\u001B[43m \u001B[49m\u001B[38;5;28;43;01mNone\u001B[39;49;00m\u001B[43m \u001B[49m\u001B[38;5;28;43;01melse\u001B[39;49;00m\u001B[43m \u001B[49m\u001B[43mmsg\u001B[49m\u001B[43m)\u001B[49m\n\u001B[0;32m   1496\u001B[0m \u001B[38;5;28;01mif\u001B[39;00m pos:\n\u001B[0;32m   1497\u001B[0m     \u001B[38;5;28mself\u001B[39m\u001B[38;5;241m.\u001B[39mmoveto(\u001B[38;5;241m-\u001B[39mpos)\n",
      "File \u001B[1;32m~\\AppData\\Local\\Programs\\Python\\Python312\\Lib\\site-packages\\tqdm\\std.py:459\u001B[0m, in \u001B[0;36mtqdm.status_printer.<locals>.print_status\u001B[1;34m(s)\u001B[0m\n\u001B[0;32m    457\u001B[0m \u001B[38;5;28;01mdef\u001B[39;00m \u001B[38;5;21mprint_status\u001B[39m(s):\n\u001B[0;32m    458\u001B[0m     len_s \u001B[38;5;241m=\u001B[39m disp_len(s)\n\u001B[1;32m--> 459\u001B[0m     \u001B[43mfp_write\u001B[49m\u001B[43m(\u001B[49m\u001B[38;5;124;43m'\u001B[39;49m\u001B[38;5;130;43;01m\\r\u001B[39;49;00m\u001B[38;5;124;43m'\u001B[39;49m\u001B[43m \u001B[49m\u001B[38;5;241;43m+\u001B[39;49m\u001B[43m \u001B[49m\u001B[43ms\u001B[49m\u001B[43m \u001B[49m\u001B[38;5;241;43m+\u001B[39;49m\u001B[43m \u001B[49m\u001B[43m(\u001B[49m\u001B[38;5;124;43m'\u001B[39;49m\u001B[38;5;124;43m \u001B[39;49m\u001B[38;5;124;43m'\u001B[39;49m\u001B[43m \u001B[49m\u001B[38;5;241;43m*\u001B[39;49m\u001B[43m \u001B[49m\u001B[38;5;28;43mmax\u001B[39;49m\u001B[43m(\u001B[49m\u001B[43mlast_len\u001B[49m\u001B[43m[\u001B[49m\u001B[38;5;241;43m0\u001B[39;49m\u001B[43m]\u001B[49m\u001B[43m \u001B[49m\u001B[38;5;241;43m-\u001B[39;49m\u001B[43m \u001B[49m\u001B[43mlen_s\u001B[49m\u001B[43m,\u001B[49m\u001B[43m \u001B[49m\u001B[38;5;241;43m0\u001B[39;49m\u001B[43m)\u001B[49m\u001B[43m)\u001B[49m\u001B[43m)\u001B[49m\n\u001B[0;32m    460\u001B[0m     last_len[\u001B[38;5;241m0\u001B[39m] \u001B[38;5;241m=\u001B[39m len_s\n",
      "File \u001B[1;32m~\\AppData\\Local\\Programs\\Python\\Python312\\Lib\\site-packages\\tqdm\\std.py:452\u001B[0m, in \u001B[0;36mtqdm.status_printer.<locals>.fp_write\u001B[1;34m(s)\u001B[0m\n\u001B[0;32m    451\u001B[0m \u001B[38;5;28;01mdef\u001B[39;00m \u001B[38;5;21mfp_write\u001B[39m(s):\n\u001B[1;32m--> 452\u001B[0m     \u001B[43mfp\u001B[49m\u001B[38;5;241;43m.\u001B[39;49m\u001B[43mwrite\u001B[49m\u001B[43m(\u001B[49m\u001B[38;5;28;43mstr\u001B[39;49m\u001B[43m(\u001B[49m\u001B[43ms\u001B[49m\u001B[43m)\u001B[49m\u001B[43m)\u001B[49m\n\u001B[0;32m    453\u001B[0m     fp_flush()\n",
      "File \u001B[1;32m~\\AppData\\Local\\Programs\\Python\\Python312\\Lib\\site-packages\\tqdm\\utils.py:196\u001B[0m, in \u001B[0;36mDisableOnWriteError.disable_on_exception.<locals>.inner\u001B[1;34m(*args, **kwargs)\u001B[0m\n\u001B[0;32m    194\u001B[0m \u001B[38;5;28;01mdef\u001B[39;00m \u001B[38;5;21minner\u001B[39m(\u001B[38;5;241m*\u001B[39margs, \u001B[38;5;241m*\u001B[39m\u001B[38;5;241m*\u001B[39mkwargs):\n\u001B[0;32m    195\u001B[0m     \u001B[38;5;28;01mtry\u001B[39;00m:\n\u001B[1;32m--> 196\u001B[0m         \u001B[38;5;28;01mreturn\u001B[39;00m \u001B[43mfunc\u001B[49m\u001B[43m(\u001B[49m\u001B[38;5;241;43m*\u001B[39;49m\u001B[43margs\u001B[49m\u001B[43m,\u001B[49m\u001B[43m \u001B[49m\u001B[38;5;241;43m*\u001B[39;49m\u001B[38;5;241;43m*\u001B[39;49m\u001B[43mkwargs\u001B[49m\u001B[43m)\u001B[49m\n\u001B[0;32m    197\u001B[0m     \u001B[38;5;28;01mexcept\u001B[39;00m \u001B[38;5;167;01mOSError\u001B[39;00m \u001B[38;5;28;01mas\u001B[39;00m e:\n\u001B[0;32m    198\u001B[0m         \u001B[38;5;28;01mif\u001B[39;00m e\u001B[38;5;241m.\u001B[39merrno \u001B[38;5;241m!=\u001B[39m \u001B[38;5;241m5\u001B[39m:\n",
      "File \u001B[1;32m~\\AppData\\Local\\Programs\\Python\\Python312\\Lib\\site-packages\\ipykernel\\iostream.py:694\u001B[0m, in \u001B[0;36mOutStream.write\u001B[1;34m(self, string)\u001B[0m\n\u001B[0;32m    692\u001B[0m     \u001B[38;5;28mself\u001B[39m\u001B[38;5;241m.\u001B[39mpub_thread\u001B[38;5;241m.\u001B[39mschedule(\u001B[38;5;28mself\u001B[39m\u001B[38;5;241m.\u001B[39m_flush)\n\u001B[0;32m    693\u001B[0m \u001B[38;5;28;01melse\u001B[39;00m:\n\u001B[1;32m--> 694\u001B[0m     \u001B[38;5;28;43mself\u001B[39;49m\u001B[38;5;241;43m.\u001B[39;49m\u001B[43m_schedule_flush\u001B[49m\u001B[43m(\u001B[49m\u001B[43m)\u001B[49m\n\u001B[0;32m    696\u001B[0m \u001B[38;5;28;01mreturn\u001B[39;00m \u001B[38;5;28mlen\u001B[39m(string)\n",
      "File \u001B[1;32m~\\AppData\\Local\\Programs\\Python\\Python312\\Lib\\site-packages\\ipykernel\\iostream.py:590\u001B[0m, in \u001B[0;36mOutStream._schedule_flush\u001B[1;34m(self)\u001B[0m\n\u001B[0;32m    587\u001B[0m \u001B[38;5;28;01mdef\u001B[39;00m \u001B[38;5;21m_schedule_in_thread\u001B[39m():\n\u001B[0;32m    588\u001B[0m     \u001B[38;5;28mself\u001B[39m\u001B[38;5;241m.\u001B[39m_io_loop\u001B[38;5;241m.\u001B[39mcall_later(\u001B[38;5;28mself\u001B[39m\u001B[38;5;241m.\u001B[39mflush_interval, \u001B[38;5;28mself\u001B[39m\u001B[38;5;241m.\u001B[39m_flush)\n\u001B[1;32m--> 590\u001B[0m \u001B[38;5;28;43mself\u001B[39;49m\u001B[38;5;241;43m.\u001B[39;49m\u001B[43mpub_thread\u001B[49m\u001B[38;5;241;43m.\u001B[39;49m\u001B[43mschedule\u001B[49m\u001B[43m(\u001B[49m\u001B[43m_schedule_in_thread\u001B[49m\u001B[43m)\u001B[49m\n",
      "File \u001B[1;32m~\\AppData\\Local\\Programs\\Python\\Python312\\Lib\\site-packages\\ipykernel\\iostream.py:267\u001B[0m, in \u001B[0;36mIOPubThread.schedule\u001B[1;34m(self, f)\u001B[0m\n\u001B[0;32m    265\u001B[0m     \u001B[38;5;28mself\u001B[39m\u001B[38;5;241m.\u001B[39m_events\u001B[38;5;241m.\u001B[39mappend(f)\n\u001B[0;32m    266\u001B[0m     \u001B[38;5;66;03m# wake event thread (message content is ignored)\u001B[39;00m\n\u001B[1;32m--> 267\u001B[0m     \u001B[38;5;28;43mself\u001B[39;49m\u001B[38;5;241;43m.\u001B[39;49m\u001B[43m_event_pipe\u001B[49m\u001B[38;5;241;43m.\u001B[39;49m\u001B[43msend\u001B[49m\u001B[43m(\u001B[49m\u001B[38;5;124;43mb\u001B[39;49m\u001B[38;5;124;43m\"\u001B[39;49m\u001B[38;5;124;43m\"\u001B[39;49m\u001B[43m)\u001B[49m\n\u001B[0;32m    268\u001B[0m \u001B[38;5;28;01melse\u001B[39;00m:\n\u001B[0;32m    269\u001B[0m     f()\n",
      "File \u001B[1;32m~\\AppData\\Local\\Programs\\Python\\Python312\\Lib\\site-packages\\zmq\\sugar\\socket.py:701\u001B[0m, in \u001B[0;36mSocket.send\u001B[1;34m(self, data, flags, copy, track, routing_id, group)\u001B[0m\n\u001B[0;32m    694\u001B[0m         data \u001B[38;5;241m=\u001B[39m zmq\u001B[38;5;241m.\u001B[39mFrame(\n\u001B[0;32m    695\u001B[0m             data,\n\u001B[0;32m    696\u001B[0m             track\u001B[38;5;241m=\u001B[39mtrack,\n\u001B[0;32m    697\u001B[0m             copy\u001B[38;5;241m=\u001B[39mcopy \u001B[38;5;129;01mor\u001B[39;00m \u001B[38;5;28;01mNone\u001B[39;00m,\n\u001B[0;32m    698\u001B[0m             copy_threshold\u001B[38;5;241m=\u001B[39m\u001B[38;5;28mself\u001B[39m\u001B[38;5;241m.\u001B[39mcopy_threshold,\n\u001B[0;32m    699\u001B[0m         )\n\u001B[0;32m    700\u001B[0m     data\u001B[38;5;241m.\u001B[39mgroup \u001B[38;5;241m=\u001B[39m group\n\u001B[1;32m--> 701\u001B[0m \u001B[38;5;28;01mreturn\u001B[39;00m \u001B[38;5;28;43msuper\u001B[39;49m\u001B[43m(\u001B[49m\u001B[43m)\u001B[49m\u001B[38;5;241;43m.\u001B[39;49m\u001B[43msend\u001B[49m\u001B[43m(\u001B[49m\u001B[43mdata\u001B[49m\u001B[43m,\u001B[49m\u001B[43m \u001B[49m\u001B[43mflags\u001B[49m\u001B[38;5;241;43m=\u001B[39;49m\u001B[43mflags\u001B[49m\u001B[43m,\u001B[49m\u001B[43m \u001B[49m\u001B[43mcopy\u001B[49m\u001B[38;5;241;43m=\u001B[39;49m\u001B[43mcopy\u001B[49m\u001B[43m,\u001B[49m\u001B[43m \u001B[49m\u001B[43mtrack\u001B[49m\u001B[38;5;241;43m=\u001B[39;49m\u001B[43mtrack\u001B[49m\u001B[43m)\u001B[49m\n",
      "File \u001B[1;32m_zmq.py:1073\u001B[0m, in \u001B[0;36mzmq.backend.cython._zmq.Socket.send\u001B[1;34m()\u001B[0m\n",
      "File \u001B[1;32m_zmq.py:1121\u001B[0m, in \u001B[0;36mzmq.backend.cython._zmq.Socket.send\u001B[1;34m()\u001B[0m\n",
      "File \u001B[1;32m_zmq.py:1320\u001B[0m, in \u001B[0;36mzmq.backend.cython._zmq._send_copy\u001B[1;34m()\u001B[0m\n",
      "File \u001B[1;32m_zmq.py:141\u001B[0m, in \u001B[0;36mzmq.backend.cython._zmq._check_rc\u001B[1;34m()\u001B[0m\n",
      "\u001B[1;31mKeyboardInterrupt\u001B[0m: "
     ]
    }
   ],
   "source": [
    "from tqdm import tqdm\n",
    "\n",
    "plt.figure()\n",
    "plt.plot([1, 2, 3], [1, 2, 3])\n",
    "plt.savefig('results/Alexnet/confusion_matrices/test_plot.png')\n",
    "plt.savefig('results/Alexnet/precision_recall/test_plot.png')\n",
    "plt.savefig('results/Alexnet/roc_curves/test_plot.png')\n",
    "plt.close()\n",
    "\n",
    "model = GoogLeNet().to(device)\n",
    "criterion = nn.CrossEntropyLoss()\n",
    "for batch_size in batch_sizes:\n",
    "    train_loader = DataLoader(train_dataset, batch_size=batch_size, shuffle=True, num_workers=0)\n",
    "    for learning_rate in learning_rates:\n",
    "        optimizer = torch.optim.Adam(model.parameters(), lr = learning_rate)\n",
    "        for epoch in epochs:\n",
    "            model.train()\n",
    "            print(f'Starting training with batch size={batch_size}, learning rate={learning_rate}, epoch={epoch}')\n",
    "            for curr_epoch in range(epoch):\n",
    "                loop = tqdm(enumerate(train_loader), total=len(train_loader), leave=True)\n",
    "                total_loss = 0\n",
    "                for i, (inputs, labels) in loop:\n",
    "                    inputs, labels = inputs.to(device), labels.to(device)\n",
    "\n",
    "                    optimizer.zero_grad()\n",
    "                    outputs = model(inputs)\n",
    "                    loss = criterion(outputs, labels)\n",
    "                    loss.backward()\n",
    "                    optimizer.step()\n",
    "\n",
    "                    total_loss += loss.item()\n",
    "                    loop.set_description(f'Epoch [{curr_epoch + 1}/{epoch}]')\n",
    "                    loop.set_postfix(loss=total_loss/(i + 1))\n",
    "                    \n",
    "                if (curr_epoch + 1) % 5 == 0:\n",
    "                    true_labels, predicted_labels, probabilities = evaluate_model(model, device, test_loader, classes)\n",
    "                    plot_confusion_matrix(true_labels, predicted_labels, classes, 'results/GoogleNet/confusion_matrices', f'batch_{batch_size}_lr_{learning_rate}_epoch_{curr_epoch + 1}')\n",
    "                    plot_roc_curve_multiclass(31, true_labels, probabilities, 'results/GoogleNet/roc_curves', f'batch_{batch_size}_lr_{learning_rate}_epoch_{curr_epoch + 1}')\n",
    "                    plot_precision_recall(true_labels, probabilities, 31, 'results/GoogleNet/precision_recall', f'batch_{batch_size}_lr_{learning_rate}_epoch_{curr_epoch + 1}')"
   ],
   "metadata": {
    "collapsed": false,
    "ExecuteTime": {
     "end_time": "2024-04-21T13:08:58.052559Z",
     "start_time": "2024-04-21T08:14:16.564763600Z"
    }
   },
   "id": "7dc15d2779870786"
  }
 ],
 "metadata": {
  "kernelspec": {
   "display_name": "Python 3",
   "language": "python",
   "name": "python3"
  },
  "language_info": {
   "codemirror_mode": {
    "name": "ipython",
    "version": 2
   },
   "file_extension": ".py",
   "mimetype": "text/x-python",
   "name": "python",
   "nbconvert_exporter": "python",
   "pygments_lexer": "ipython2",
   "version": "2.7.6"
  }
 },
 "nbformat": 4,
 "nbformat_minor": 5
}
