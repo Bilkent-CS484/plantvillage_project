{
 "cells": [
  {
   "cell_type": "code",
   "execution_count": null,
   "id": "initial_id",
   "metadata": {
    "collapsed": true
   },
   "outputs": [],
   "source": [
    "import torch\n",
    "import torch.nn as nn\n",
    "import torch.nn.functional as F"
   ]
  },
  {
   "cell_type": "code",
   "execution_count": null,
   "outputs": [],
   "source": [
    "class ConvBlock(nn.Module):\n",
    "    def __init__(self, in_channels, out_channels, kernel_size, stride=1, padding=0):\n",
    "        super(ConvBlock, self).__init__()\n",
    "        self.conv = nn.Conv2d(in_channels, out_channels, kernel_size, stride, padding)\n",
    "        self.relu = nn.ReLU(inplace=True)\n",
    "\n",
    "    def forward(self, x):\n",
    "        return self.relu(self.conv(x))\n",
    "    \n",
    "class InceptionModule(nn.Module):\n",
    "    def __init__(self, in_channels, f1, f3r, f3, f5r, f5, pool_proj):\n",
    "        super(InceptionModule, self).__init__()\n",
    "        self.branch1 = ConvBlock(in_channels, f1, 1)\n",
    "\n",
    "        self.branch2 = nn.Sequential(\n",
    "            ConvBlock(in_channels, f3r, 1),\n",
    "            ConvBlock(f3r, f3, 3, padding=1)\n",
    "        )\n",
    "\n",
    "        self.branch3 = nn.Sequential(\n",
    "            ConvBlock(in_channels, f5r, 1),\n",
    "            ConvBlock(f5r, f5, 5, padding=2)\n",
    "        )\n",
    "\n",
    "        self.branch4 = nn.Sequential(\n",
    "            nn.MaxPool2d(3, stride=1, padding=1),\n",
    "            ConvBlock(in_channels, pool_proj, 1)\n",
    "        )\n",
    "\n",
    "    def forward(self, x):\n",
    "        branches = [\n",
    "            self.branch1(x),\n",
    "            self.branch2(x),\n",
    "            self.branch3(x),\n",
    "            self.branch4(x)\n",
    "        ]\n",
    "        return torch.cat(branches, 1)    "
   ],
   "metadata": {
    "collapsed": false
   },
   "id": "e1feeba4e87631fb"
  },
  {
   "cell_type": "code",
   "execution_count": null,
   "outputs": [],
   "source": [
    "class GoogleNet(nn.Module):\n",
    "    def __init__(self):\n",
    "        super(GoogleNet, self).__init__()\n",
    "        self.pre_layers = nn.Sequential(\n",
    "            ConvBlock(3, 64, kernel_size=7, stride=2, padding=3),\n",
    "            nn.MaxPool2d(3, stride=2),\n",
    "            nn.LocalResponseNorm(size=5, alpha=0.0001, beta=0.75),\n",
    "            ConvBlock(64, 64, kernel_size=1),\n",
    "            ConvBlock(64, 192, kernel_size=3, padding=1),\n",
    "            nn.LocalResponseNorm(size=5, alpha=0.0001, beta=0.75),\n",
    "            nn.MaxPool2d(3, stride=2)\n",
    "        )\n",
    "\n",
    "        self.inception_3a = InceptionModule(192, 64, 96, 128, 16, 32, 32)\n",
    "        self.inception_3b = InceptionModule(256, 128, 128, 192, 32, 96, 64)\n",
    "        # self.inception_4a = InceptionModule();\n",
    "\n",
    "    def forward(self, x):\n",
    "        x = self.pre_layers(x)\n",
    "        x = self.inception_3a(x)\n",
    "        x = self.inception_3b(x)\n",
    "\n",
    "\n",
    "\n",
    "        # x = self.inception_4a(x)\n",
    "        # x = self.inception_4b(x)\n",
    "        # x = self.inception_4c(x)\n",
    "        # x = self.inception_4d(x)\n",
    "        # x = self.inception_5a(x)\n",
    "        # x = self.inception_5b(x)\n",
    "\n",
    "        \n",
    "        return x\n"
   ],
   "metadata": {
    "collapsed": false
   },
   "id": "dd476aca485cd8e4"
  },
  {
   "cell_type": "code",
   "execution_count": null,
   "outputs": [],
   "source": [
    "net = GoogleNet()\n",
    "input_tensor = torch.randn(1, 3, 224, 224)  # Example input tensor\n",
    "output = net(input_tensor)\n",
    "print(output.size())\n"
   ],
   "metadata": {
    "collapsed": false
   },
   "id": "5ee9c6172da84581"
  }
 ],
 "metadata": {
  "kernelspec": {
   "display_name": "Python 3",
   "language": "python",
   "name": "python3"
  },
  "language_info": {
   "codemirror_mode": {
    "name": "ipython",
    "version": 2
   },
   "file_extension": ".py",
   "mimetype": "text/x-python",
   "name": "python",
   "nbconvert_exporter": "python",
   "pygments_lexer": "ipython2",
   "version": "2.7.6"
  }
 },
 "nbformat": 4,
 "nbformat_minor": 5
}
