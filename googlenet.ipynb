{
 "cells": [
  {
   "cell_type": "code",
   "execution_count": 23,
   "outputs": [
    {
     "name": "stdout",
     "output_type": "stream",
     "text": [
      "True\n",
      "Using device: cuda\n",
      "Device name: NVIDIA GeForce RTX 2060\n",
      "Memory Allocated: 27.3984375 megabytes\n",
      "Memory Cached: 1400.0 megabytes\n",
      "Total Memory: 6143.6875 megabytes\n"
     ]
    }
   ],
   "source": [
    "import torch\n",
    "from sklearn.metrics import accuracy_score, confusion_matrix, f1_score, roc_curve, roc_auc_score, precision_recall_curve, auc\n",
    "import matplotlib.pyplot as plt\n",
    "from sklearn.preprocessing import label_binarize\n",
    "import numpy as np\n",
    "import seaborn as sns\n",
    "import torch.nn.functional as F\n",
    "print(torch.cuda.is_available())\n",
    "device = torch.device(\"cuda\" if torch.cuda.is_available() else \"cpu\")\n",
    "print(f\"Using device: {device}\")\n",
    "\n",
    "if device.type == 'cuda':\n",
    "    print(f\"Device name: {torch.cuda.get_device_name(0)}\")\n",
    "    print(f\"Memory Allocated: {torch.cuda.memory_allocated(0) / 1024. / 1024.} megabytes\")\n",
    "    print(f\"Memory Cached: {torch.cuda.memory_reserved(0) / 1024. / 1024.} megabytes\")\n",
    "    print(f\"Total Memory: {torch.cuda.get_device_properties(0).total_memory / 1024. / 1024.} megabytes\")\n",
    "else:\n",
    "    print(\"CUDA is not available. Using CPU instead.\")"
   ],
   "metadata": {
    "collapsed": false,
    "ExecuteTime": {
     "end_time": "2024-04-21T07:51:17.469732900Z",
     "start_time": "2024-04-21T07:51:17.459577800Z"
    }
   },
   "id": "b64631287438bd03"
  },
  {
   "cell_type": "code",
   "execution_count": 24,
   "id": "initial_id",
   "metadata": {
    "collapsed": true,
    "ExecuteTime": {
     "end_time": "2024-04-21T07:51:17.478835200Z",
     "start_time": "2024-04-21T07:51:17.468730200Z"
    }
   },
   "outputs": [],
   "source": [
    "import os\n",
    "from PIL import Image\n",
    "from torch.utils.data import Dataset, DataLoader\n",
    "from torchvision import transforms\n",
    "import torch.nn as nn\n",
    "\n",
    "class ImageDataset(Dataset):\n",
    "    def __init__(self, txt_loc, transform=None):\n",
    "        print(\"Initializing image dataset.\")\n",
    "        self.image_labels = []\n",
    "        self.image_paths = self.find_full_paths(txt_loc)\n",
    "        self.transform = transform\n",
    "        print(f\"Total images found: {len(self.image_paths)}\")\n",
    "\n",
    "    def __len__(self):\n",
    "        return len(self.image_paths)\n",
    "\n",
    "    def __getitem__(self, index):\n",
    "        img_path, label = self.image_paths[index]\n",
    "        try:\n",
    "            image = Image.open(img_path)\n",
    "            if self.transform:\n",
    "                image = self.transform(image)\n",
    "            return image, torch.tensor(label, dtype=torch.long)\n",
    "        except IOError as e:\n",
    "            print(f\"Error loading image {img_path}: {e}\")\n",
    "            return None, None\n",
    "\n",
    "    def find_file_by_suffix(self, directory, filename_suffix):\n",
    "        for root, dirs, files in os.walk(directory):\n",
    "            for filename in files:\n",
    "                if filename.endswith(filename_suffix):\n",
    "                    return os.path.join(root, filename)\n",
    "        return None\n",
    "\n",
    "    def find_full_paths(self, txt_loc):\n",
    "        data_dirs = os.listdir(\"color/\")\n",
    "        final_paths = []\n",
    "        with open(txt_loc, 'r') as infile:\n",
    "            lines = [line.strip() for line in infile.readlines()]\n",
    "        for line in lines:\n",
    "            parts = line.rsplit(' ', 1)\n",
    "            filename = parts[0]\n",
    "            label = int(parts[1]) - 1\n",
    "            directory_index = label\n",
    "            file_location = f'color/{data_dirs[directory_index]}/'\n",
    "            full_path = self.find_file_by_suffix(file_location, filename)\n",
    "            if full_path:\n",
    "                final_paths.append((full_path, label))\n",
    "            else:\n",
    "                print(f\"File not found: {filename} in {file_location}\")\n",
    "        return final_paths"
   ]
  },
  {
   "cell_type": "code",
   "execution_count": 25,
   "outputs": [],
   "source": [
    "import torch\n",
    "import torch.nn as nn\n",
    "import torch.nn.functional as F\n",
    "from torch.utils.data import DataLoader\n",
    "from torchvision import datasets, transforms\n",
    "\n",
    "class InceptionModule(nn.Module):\n",
    "    def __init__(self, in_channels, f1, f3_reduce, f3, f5_reduce, f5, pool_proj):\n",
    "        super(InceptionModule, self).__init__()\n",
    "        self.branch1 = nn.Conv2d(in_channels, f1, kernel_size=1)\n",
    "\n",
    "        self.branch2 = nn.Sequential(\n",
    "            nn.Conv2d(in_channels, f3_reduce, kernel_size=1),\n",
    "            nn.Conv2d(f3_reduce, f3, kernel_size=3, padding=1)\n",
    "        )\n",
    "\n",
    "        self.branch3 = nn.Sequential(\n",
    "            nn.Conv2d(in_channels, f5_reduce, kernel_size=1),\n",
    "            nn.Conv2d(f5_reduce, f5, kernel_size=5, padding=2)\n",
    "        )\n",
    "\n",
    "        self.branch4 = nn.Sequential(\n",
    "            nn.MaxPool2d(kernel_size=3, stride=1, padding=1),\n",
    "            nn.Conv2d(in_channels, pool_proj, kernel_size=1)\n",
    "        )\n",
    "\n",
    "    def forward(self, x):\n",
    "        branch1 = self.branch1(x)\n",
    "        branch2 = self.branch2(x)\n",
    "        branch3 = self.branch3(x)\n",
    "        branch4 = self.branch4(x)\n",
    "        outputs = [branch1, branch2, branch3, branch4]\n",
    "        return torch.cat(outputs, 1)"
   ],
   "metadata": {
    "collapsed": false,
    "ExecuteTime": {
     "end_time": "2024-04-21T07:51:17.506621400Z",
     "start_time": "2024-04-21T07:51:17.475679900Z"
    }
   },
   "id": "e1feeba4e87631fb"
  },
  {
   "cell_type": "code",
   "execution_count": 26,
   "outputs": [],
   "source": [
    "class GoogLeNet(nn.Module):\n",
    "    def __init__(self, num_classes=31):\n",
    "        super(GoogLeNet, self).__init__()\n",
    "        self.pre_layers = nn.Sequential(\n",
    "            nn.Conv2d(3, 64, kernel_size=7, stride=2, padding=3),\n",
    "            nn.MaxPool2d(kernel_size=3, stride=2, padding=1),\n",
    "            nn.LocalResponseNorm(size=5, alpha=1e-4, beta=0.75, k=2),\n",
    "            nn.Conv2d(64, 64, kernel_size=1),\n",
    "            nn.Conv2d(64, 192, kernel_size=3, padding=1),\n",
    "            nn.LocalResponseNorm(size=5, alpha=1e-4, beta=0.75, k=2),\n",
    "            nn.MaxPool2d(kernel_size=3, stride=2, padding=1),\n",
    "        )\n",
    "\n",
    "        # Add inception blocks with the corresponding parameters\n",
    "        self.a3 = InceptionModule(192, 64, 96, 128, 16, 32, 32)\n",
    "        self.b3 = InceptionModule(256, 128, 128, 192, 32, 96, 64)\n",
    "        self.maxpool = nn.MaxPool2d(kernel_size=3, stride=2, padding=1)\n",
    "        # More inception modules would be added here following the original architecture\n",
    "\n",
    "        self.avgpool = nn.AdaptiveAvgPool2d((1, 1))\n",
    "        self.dropout = nn.Dropout(0.4)\n",
    "        self.fc = nn.Linear(480, num_classes)  # Adjust the input size to 480\n",
    "\n",
    "    def forward(self, x):\n",
    "        x = self.pre_layers(x)\n",
    "        x = self.a3(x)\n",
    "        x = self.b3(x)\n",
    "        x = self.maxpool(x)\n",
    "        x = self.avgpool(x)\n",
    "        x = x.view(x.size(0), -1)    \n",
    "        x = self.dropout(x)\n",
    "        x = self.fc(x)\n",
    "        return x\n"
   ],
   "metadata": {
    "collapsed": false,
    "ExecuteTime": {
     "end_time": "2024-04-21T07:51:17.506621400Z",
     "start_time": "2024-04-21T07:51:17.483841700Z"
    }
   },
   "id": "dd476aca485cd8e4"
  },
  {
   "cell_type": "code",
   "execution_count": 27,
   "outputs": [
    {
     "name": "stdout",
     "output_type": "stream",
     "text": [
      "Initializing image dataset.\n",
      "Total images found: 1062\n",
      "Initializing image dataset.\n",
      "Total images found: 265\n"
     ]
    }
   ],
   "source": [
    "transform = transforms.Compose([\n",
    "    transforms.CenterCrop(224),\n",
    "    transforms.ToTensor(),\n",
    "    transforms.Normalize(mean=[0.485, 0.456, 0.406], std=[0.229, 0.224, 0.225])\n",
    "])\n",
    "\n",
    "classes = [i for i in range(1, 32)]\n",
    "train_dataset = ImageDataset(txt_loc='./train.txt', transform=transform)\n",
    "test_dataset = ImageDataset(txt_loc='./test.txt', transform=transform)\n",
    "test_loader = DataLoader(test_dataset, batch_size=32, shuffle=True, num_workers=0)"
   ],
   "metadata": {
    "collapsed": false,
    "ExecuteTime": {
     "end_time": "2024-04-21T07:51:22.694292100Z",
     "start_time": "2024-04-21T07:51:17.490621800Z"
    }
   },
   "id": "d2a0a32cb9bbba46"
  },
  {
   "cell_type": "code",
   "execution_count": 28,
   "outputs": [],
   "source": [
    "classes = [f'{i}' for i in range(1, 32)]\n",
    "\n",
    "def plot_confusion_matrix(true_labels, predicted_labels, classes, save_path, file_suffix):\n",
    "    cm = confusion_matrix(true_labels, predicted_labels)\n",
    "    plt.figure(figsize=(10, 8))\n",
    "    sns.heatmap(cm, annot=True, cmap=plt.cm.Purples, fmt='g', \n",
    "                 xticklabels=classes, yticklabels=classes)\n",
    "    plt.xlabel('Predicted Label')\n",
    "    plt.ylabel('True Label')\n",
    "    plt.title('Confusion Matrix')\n",
    "    plt.savefig(f'{save_path}/confusion_matrix_{file_suffix}.png')\n",
    "    plt.close()\n",
    "    \n",
    "def plot_roc_curve_multiclass(num_classes, true_labels, probabilities, save_path, file_suffix):\n",
    "    true_labels = label_binarize(true_labels, classes=[i for i in range(num_classes)])\n",
    "    n_classes = true_labels.shape[1]\n",
    "    \n",
    "    fpr = dict()\n",
    "    tpr = dict()\n",
    "    roc_auc = dict()\n",
    "    for i in range(n_classes):\n",
    "        fpr[i], tpr[i], _ = roc_curve(true_labels[:, i], probabilities[:, i])\n",
    "        roc_auc[i] = auc(fpr[i], tpr[i])\n",
    "\n",
    "    plt.figure(figsize=(10, 8))\n",
    "    colors = iter(plt.cm.rainbow(np.linspace(0, 1, n_classes)))\n",
    "    for i in range(n_classes):\n",
    "        plt.plot(fpr[i], tpr[i], color=next(colors), label=f'Class {i} (AUC = {roc_auc[i]:.2f})')\n",
    "    \n",
    "    plt.plot([0, 1], [0, 1], 'k--')\n",
    "    plt.xlim([0.0, 1.0])\n",
    "    plt.ylim([0.0, 1.05])\n",
    "    plt.xlabel('False Positive Rate')\n",
    "    plt.ylabel('True Positive Rate')\n",
    "    plt.title('Multi-class ROC Curve')\n",
    "    plt.legend(loc=\"lower right\")\n",
    "    plt.savefig(f'{save_path}/roc_curve_multiclass_{file_suffix}.png')\n",
    "    plt.close()\n",
    "\n",
    "def plot_precision_recall(labels, probabilities, num_classes, save_path, file_suffix):\n",
    "    labels = label_binarize(labels, classes=[i for i in range(num_classes)])\n",
    "    \n",
    "    precision = dict()\n",
    "    recall = dict()\n",
    "    pr_auc = dict()\n",
    "\n",
    "    for i in range(num_classes):\n",
    "        precision[i], recall[i], _ = precision_recall_curve(labels[:, i], probabilities[:, i])\n",
    "        pr_auc[i] = auc(recall[i], precision[i])\n",
    "\n",
    "    plt.figure(figsize=(10, 8))\n",
    "    for i in range(num_classes):\n",
    "        plt.plot(recall[i], precision[i], lw=2, label=f'Class {i} (PR AUC = {pr_auc[i]:.2f})')\n",
    "\n",
    "    plt.xlabel('Recall')\n",
    "    plt.ylabel('Precision')\n",
    "    plt.title('Class-wise Precision-Recall Curves')\n",
    "    plt.legend(loc=\"best\")\n",
    "    plt.savefig(f'{save_path}/precision_recall_curves_{file_suffix}.png')\n",
    "    plt.close()\n",
    "\n",
    "    \n",
    "def evaluate_model(model, device, data_loader, classes):\n",
    "    model.eval()\n",
    "    correct = 0\n",
    "    total = 0\n",
    "    true_labels = []\n",
    "    predicted_labels = []\n",
    "    probabilities_list = []\n",
    "\n",
    "    with torch.no_grad():\n",
    "        for inputs, labels in data_loader:\n",
    "            inputs, labels = inputs.to(device), labels.to(device)\n",
    "            outputs = model(inputs)\n",
    "\n",
    "            probabilities = F.softmax(outputs, dim=1)\n",
    "            probabilities_list.append(probabilities.cpu())\n",
    "            \n",
    "            _, predicted = torch.max(outputs.data, 1)\n",
    "            total += labels.size(0)\n",
    "            correct += (predicted == labels).sum().item()\n",
    "            true_labels.extend(labels.cpu().numpy())\n",
    "            predicted_labels.extend(predicted.cpu().numpy())\n",
    "\n",
    "    accuracy = 100 * correct / total\n",
    "    f1 = f1_score(true_labels, predicted_labels, average='weighted')\n",
    "    print(f'Accuracy: {accuracy:.2f}%')\n",
    "    print(f'F1 Score: {f1:.2f}')\n",
    "\n",
    "    probabilities = torch.cat(probabilities_list, dim=0)\n",
    "    true_labels = torch.tensor(true_labels)\n",
    "        \n",
    "    return true_labels, predicted_labels, probabilities"
   ],
   "metadata": {
    "collapsed": false,
    "ExecuteTime": {
     "end_time": "2024-04-21T07:51:22.703017900Z",
     "start_time": "2024-04-21T07:51:22.690292Z"
    }
   },
   "id": "46e01d10405c0ba5"
  },
  {
   "cell_type": "code",
   "execution_count": 33,
   "outputs": [],
   "source": [
    "batch_sizes = [32]\n",
    "learning_rates = [0.001, 0.0005, 0.0001]\n",
    "epochs = [20]"
   ],
   "metadata": {
    "collapsed": false,
    "ExecuteTime": {
     "end_time": "2024-04-21T08:01:17.635744600Z",
     "start_time": "2024-04-21T08:01:17.613443Z"
    }
   },
   "id": "5ee9c6172da84581"
  },
  {
   "cell_type": "code",
   "execution_count": 35,
   "outputs": [
    {
     "name": "stdout",
     "output_type": "stream",
     "text": [
      "Starting training with batch size=32, learning rate=0.001, epoch=20\n"
     ]
    },
    {
     "name": "stderr",
     "output_type": "stream",
     "text": [
      "Epoch [1/20]:   6%|▌         | 2/34 [00:00<00:11,  2.86it/s, loss=3.41]\n"
     ]
    },
    {
     "ename": "KeyboardInterrupt",
     "evalue": "",
     "output_type": "error",
     "traceback": [
      "\u001B[1;31m---------------------------------------------------------------------------\u001B[0m",
      "\u001B[1;31mKeyboardInterrupt\u001B[0m                         Traceback (most recent call last)",
      "Cell \u001B[1;32mIn[35], line 31\u001B[0m\n\u001B[0;32m     28\u001B[0m loss\u001B[38;5;241m.\u001B[39mbackward()\n\u001B[0;32m     29\u001B[0m optimizer\u001B[38;5;241m.\u001B[39mstep()\n\u001B[1;32m---> 31\u001B[0m total_loss \u001B[38;5;241m+\u001B[39m\u001B[38;5;241m=\u001B[39m \u001B[43mloss\u001B[49m\u001B[38;5;241;43m.\u001B[39;49m\u001B[43mitem\u001B[49m\u001B[43m(\u001B[49m\u001B[43m)\u001B[49m\n\u001B[0;32m     32\u001B[0m loop\u001B[38;5;241m.\u001B[39mset_description(\u001B[38;5;124mf\u001B[39m\u001B[38;5;124m'\u001B[39m\u001B[38;5;124mEpoch [\u001B[39m\u001B[38;5;132;01m{\u001B[39;00mcurr_epoch\u001B[38;5;250m \u001B[39m\u001B[38;5;241m+\u001B[39m\u001B[38;5;250m \u001B[39m\u001B[38;5;241m1\u001B[39m\u001B[38;5;132;01m}\u001B[39;00m\u001B[38;5;124m/\u001B[39m\u001B[38;5;132;01m{\u001B[39;00mepoch\u001B[38;5;132;01m}\u001B[39;00m\u001B[38;5;124m]\u001B[39m\u001B[38;5;124m'\u001B[39m)\n\u001B[0;32m     33\u001B[0m loop\u001B[38;5;241m.\u001B[39mset_postfix(loss\u001B[38;5;241m=\u001B[39mtotal_loss\u001B[38;5;241m/\u001B[39m(i \u001B[38;5;241m+\u001B[39m \u001B[38;5;241m1\u001B[39m))\n",
      "\u001B[1;31mKeyboardInterrupt\u001B[0m: "
     ]
    }
   ],
   "source": [
    "from tqdm import tqdm\n",
    "\n",
    "plt.figure()\n",
    "plt.plot([1, 2, 3], [1, 2, 3])\n",
    "plt.savefig('results/Alexnet/confusion_matrices/test_plot.png')\n",
    "plt.savefig('results/Alexnet/precision_recall/test_plot.png')\n",
    "plt.savefig('results/Alexnet/roc_curves/test_plot.png')\n",
    "plt.close()\n",
    "\n",
    "model = GoogLeNet().to(device)\n",
    "criterion = nn.CrossEntropyLoss()\n",
    "for batch_size in batch_sizes:\n",
    "    train_loader = DataLoader(train_dataset, batch_size=batch_size, shuffle=True, num_workers=0)\n",
    "    for learning_rate in learning_rates:\n",
    "        optimizer = torch.optim.Adam(model.parameters(), lr = learning_rate)\n",
    "        for epoch in epochs:\n",
    "            model.train()\n",
    "            print(f'Starting training with batch size={batch_size}, learning rate={learning_rate}, epoch={epoch}')\n",
    "            for curr_epoch in range(epoch):\n",
    "                loop = tqdm(enumerate(train_loader), total=len(train_loader), leave=True)\n",
    "                total_loss = 0\n",
    "                for i, (inputs, labels) in loop:\n",
    "                    inputs, labels = inputs.to(device), labels.to(device)\n",
    "\n",
    "                    optimizer.zero_grad()\n",
    "                    outputs = model(inputs)\n",
    "                    loss = criterion(outputs, labels)\n",
    "                    loss.backward()\n",
    "                    optimizer.step()\n",
    "\n",
    "                    total_loss += loss.item()\n",
    "                    loop.set_description(f'Epoch [{curr_epoch + 1}/{epoch}]')\n",
    "                    loop.set_postfix(loss=total_loss/(i + 1))\n",
    "                    \n",
    "                if (curr_epoch + 1) % 5 == 0:\n",
    "                    true_labels, predicted_labels, probabilities = evaluate_model(model, device, test_loader, classes)\n",
    "                    plot_confusion_matrix(true_labels, predicted_labels, classes, 'results/GoogleNet/confusion_matrices', f'batch_{batch_size}_lr_{learning_rate}_epoch_{curr_epoch + 1}')\n",
    "                    plot_roc_curve_multiclass(31, true_labels, probabilities, 'results/GoogleNet/roc_curves', f'batch_{batch_size}_lr_{learning_rate}_epoch_{curr_epoch + 1}')\n",
    "                    plot_precision_recall(true_labels, probabilities, 31, 'results/GoogleNet/precision_recall', f'batch_{batch_size}_lr_{learning_rate}_epoch_{curr_epoch + 1}')"
   ],
   "metadata": {
    "collapsed": false,
    "ExecuteTime": {
     "end_time": "2024-04-21T08:08:38.475366600Z",
     "start_time": "2024-04-21T08:08:37.388731100Z"
    }
   },
   "id": "7dc15d2779870786"
  },
  {
   "cell_type": "code",
   "execution_count": null,
   "outputs": [],
   "source": [],
   "metadata": {
    "collapsed": false
   },
   "id": "12afcc6bcc9ae900"
  }
 ],
 "metadata": {
  "kernelspec": {
   "display_name": "Python 3",
   "language": "python",
   "name": "python3"
  },
  "language_info": {
   "codemirror_mode": {
    "name": "ipython",
    "version": 2
   },
   "file_extension": ".py",
   "mimetype": "text/x-python",
   "name": "python",
   "nbconvert_exporter": "python",
   "pygments_lexer": "ipython2",
   "version": "2.7.6"
  }
 },
 "nbformat": 4,
 "nbformat_minor": 5
}
